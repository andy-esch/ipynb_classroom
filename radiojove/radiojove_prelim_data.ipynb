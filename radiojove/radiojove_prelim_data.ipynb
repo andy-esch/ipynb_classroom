{
 "metadata": {
  "name": "",
  "signature": "sha256:d88d37ffa6d7dd495511a6dc95f317e8df281c0abe9fdcb7b2cd2cd7f5ea986a"
 },
 "nbformat": 3,
 "nbformat_minor": 0,
 "worksheets": [
  {
   "cells": [
    {
     "cell_type": "heading",
     "level": 1,
     "metadata": {},
     "source": [
      "A look at the first data gathered from Washington-Lee's radio telescope"
     ]
    },
    {
     "cell_type": "code",
     "collapsed": false,
     "input": [
      "import re as re # Regular expressions\n",
      "import pandas as pd\n",
      "pd.set_option('display.max_rows', 10)\n",
      "import matplotlib.pyplot as plt\n",
      "%pylab inline\n",
      "\n",
      "# Import the data\n",
      "data = pd.read_csv('run-2014-06-18-exp1.txt')\n",
      "\n",
      "data"
     ],
     "language": "python",
     "metadata": {},
     "outputs": [
      {
       "output_type": "stream",
       "stream": "stdout",
       "text": [
        "Populating the interactive namespace from numpy and matplotlib\n"
       ]
      },
      {
       "html": [
        "<div style=\"max-height:1000px;max-width:1500px;overflow:auto;\">\n",
        "<table border=\"1\" class=\"dataframe\">\n",
        "  <thead>\n",
        "    <tr style=\"text-align: right;\">\n",
        "      <th></th>\n",
        "      <th>Day</th>\n",
        "      <th>Time</th>\n",
        "      <th>Intensity</th>\n",
        "    </tr>\n",
        "  </thead>\n",
        "  <tbody>\n",
        "    <tr>\n",
        "      <th>0   </th>\n",
        "      <td> 2014/06/18</td>\n",
        "      <td> 17:18:34.446</td>\n",
        "      <td>    0.00000</td>\n",
        "    </tr>\n",
        "    <tr>\n",
        "      <th>1   </th>\n",
        "      <td> 2014/06/18</td>\n",
        "      <td> 17:18:34.556</td>\n",
        "      <td> 1408.74853</td>\n",
        "    </tr>\n",
        "    <tr>\n",
        "      <th>2   </th>\n",
        "      <td> 2014/06/18</td>\n",
        "      <td> 17:18:34.666</td>\n",
        "      <td> 1496.75351</td>\n",
        "    </tr>\n",
        "    <tr>\n",
        "      <th>3   </th>\n",
        "      <td> 2014/06/18</td>\n",
        "      <td> 17:18:34.776</td>\n",
        "      <td> 1392.71519</td>\n",
        "    </tr>\n",
        "    <tr>\n",
        "      <th>4   </th>\n",
        "      <td> 2014/06/18</td>\n",
        "      <td> 17:18:34.886</td>\n",
        "      <td> 1505.03492</td>\n",
        "    </tr>\n",
        "    <tr>\n",
        "      <th>...</th>\n",
        "      <td>...</td>\n",
        "      <td>...</td>\n",
        "      <td>...</td>\n",
        "    </tr>\n",
        "    <tr>\n",
        "      <th>2467</th>\n",
        "      <td> 2014/06/18</td>\n",
        "      <td> 17:23:04.406</td>\n",
        "      <td> 1329.05465</td>\n",
        "    </tr>\n",
        "    <tr>\n",
        "      <th>2468</th>\n",
        "      <td> 2014/06/18</td>\n",
        "      <td> 17:23:04.516</td>\n",
        "      <td> 1311.98912</td>\n",
        "    </tr>\n",
        "    <tr>\n",
        "      <th>2469</th>\n",
        "      <td> 2014/06/18</td>\n",
        "      <td> 17:23:04.626</td>\n",
        "      <td> 1390.41270</td>\n",
        "    </tr>\n",
        "    <tr>\n",
        "      <th>2470</th>\n",
        "      <td> 2014/06/18</td>\n",
        "      <td> 17:23:04.736</td>\n",
        "      <td> 1431.34739</td>\n",
        "    </tr>\n",
        "    <tr>\n",
        "      <th>2471</th>\n",
        "      <td> 2014/06/18</td>\n",
        "      <td> 17:23:04.876</td>\n",
        "      <td> 1303.32744</td>\n",
        "    </tr>\n",
        "  </tbody>\n",
        "</table>\n",
        "<p>2472 rows \u00d7 3 columns</p>\n",
        "</div>"
       ],
       "metadata": {},
       "output_type": "pyout",
       "prompt_number": 91,
       "text": [
        "             Day          Time   Intensity\n",
        "0     2014/06/18  17:18:34.446     0.00000\n",
        "1     2014/06/18  17:18:34.556  1408.74853\n",
        "2     2014/06/18  17:18:34.666  1496.75351\n",
        "3     2014/06/18  17:18:34.776  1392.71519\n",
        "4     2014/06/18  17:18:34.886  1505.03492\n",
        "...          ...           ...         ...\n",
        "2467  2014/06/18  17:23:04.406  1329.05465\n",
        "2468  2014/06/18  17:23:04.516  1311.98912\n",
        "2469  2014/06/18  17:23:04.626  1390.41270\n",
        "2470  2014/06/18  17:23:04.736  1431.34739\n",
        "2471  2014/06/18  17:23:04.876  1303.32744\n",
        "\n",
        "[2472 rows x 3 columns]"
       ]
      }
     ],
     "prompt_number": 91
    },
    {
     "cell_type": "markdown",
     "metadata": {},
     "source": [
      "We can see that the first data point has zero intensity, so we can remove it."
     ]
    },
    {
     "cell_type": "code",
     "collapsed": false,
     "input": [
      "data = data.drop(0)\n",
      "data"
     ],
     "language": "python",
     "metadata": {},
     "outputs": [
      {
       "html": [
        "<div style=\"max-height:1000px;max-width:1500px;overflow:auto;\">\n",
        "<table border=\"1\" class=\"dataframe\">\n",
        "  <thead>\n",
        "    <tr style=\"text-align: right;\">\n",
        "      <th></th>\n",
        "      <th>Day</th>\n",
        "      <th>Time</th>\n",
        "      <th>Intensity</th>\n",
        "    </tr>\n",
        "  </thead>\n",
        "  <tbody>\n",
        "    <tr>\n",
        "      <th>1   </th>\n",
        "      <td> 2014/06/18</td>\n",
        "      <td> 17:18:34.556</td>\n",
        "      <td> 1408.74853</td>\n",
        "    </tr>\n",
        "    <tr>\n",
        "      <th>2   </th>\n",
        "      <td> 2014/06/18</td>\n",
        "      <td> 17:18:34.666</td>\n",
        "      <td> 1496.75351</td>\n",
        "    </tr>\n",
        "    <tr>\n",
        "      <th>3   </th>\n",
        "      <td> 2014/06/18</td>\n",
        "      <td> 17:18:34.776</td>\n",
        "      <td> 1392.71519</td>\n",
        "    </tr>\n",
        "    <tr>\n",
        "      <th>4   </th>\n",
        "      <td> 2014/06/18</td>\n",
        "      <td> 17:18:34.886</td>\n",
        "      <td> 1505.03492</td>\n",
        "    </tr>\n",
        "    <tr>\n",
        "      <th>5   </th>\n",
        "      <td> 2014/06/18</td>\n",
        "      <td> 17:18:34.996</td>\n",
        "      <td> 1270.05510</td>\n",
        "    </tr>\n",
        "    <tr>\n",
        "      <th>...</th>\n",
        "      <td>...</td>\n",
        "      <td>...</td>\n",
        "      <td>...</td>\n",
        "    </tr>\n",
        "    <tr>\n",
        "      <th>2467</th>\n",
        "      <td> 2014/06/18</td>\n",
        "      <td> 17:23:04.406</td>\n",
        "      <td> 1329.05465</td>\n",
        "    </tr>\n",
        "    <tr>\n",
        "      <th>2468</th>\n",
        "      <td> 2014/06/18</td>\n",
        "      <td> 17:23:04.516</td>\n",
        "      <td> 1311.98912</td>\n",
        "    </tr>\n",
        "    <tr>\n",
        "      <th>2469</th>\n",
        "      <td> 2014/06/18</td>\n",
        "      <td> 17:23:04.626</td>\n",
        "      <td> 1390.41270</td>\n",
        "    </tr>\n",
        "    <tr>\n",
        "      <th>2470</th>\n",
        "      <td> 2014/06/18</td>\n",
        "      <td> 17:23:04.736</td>\n",
        "      <td> 1431.34739</td>\n",
        "    </tr>\n",
        "    <tr>\n",
        "      <th>2471</th>\n",
        "      <td> 2014/06/18</td>\n",
        "      <td> 17:23:04.876</td>\n",
        "      <td> 1303.32744</td>\n",
        "    </tr>\n",
        "  </tbody>\n",
        "</table>\n",
        "<p>2471 rows \u00d7 3 columns</p>\n",
        "</div>"
       ],
       "metadata": {},
       "output_type": "pyout",
       "prompt_number": 92,
       "text": [
        "             Day          Time   Intensity\n",
        "1     2014/06/18  17:18:34.556  1408.74853\n",
        "2     2014/06/18  17:18:34.666  1496.75351\n",
        "3     2014/06/18  17:18:34.776  1392.71519\n",
        "4     2014/06/18  17:18:34.886  1505.03492\n",
        "5     2014/06/18  17:18:34.996  1270.05510\n",
        "...          ...           ...         ...\n",
        "2467  2014/06/18  17:23:04.406  1329.05465\n",
        "2468  2014/06/18  17:23:04.516  1311.98912\n",
        "2469  2014/06/18  17:23:04.626  1390.41270\n",
        "2470  2014/06/18  17:23:04.736  1431.34739\n",
        "2471  2014/06/18  17:23:04.876  1303.32744\n",
        "\n",
        "[2471 rows x 3 columns]"
       ]
      }
     ],
     "prompt_number": 92
    },
    {
     "cell_type": "markdown",
     "metadata": {},
     "source": [
      "Now that we have our data, our first goal is to turn the time data into something that we can easily graph--that is, floating point numbers. Looking at the <code>data['Time']</code> column, we can see the type of conversion that needs to happen."
     ]
    },
    {
     "cell_type": "code",
     "collapsed": false,
     "input": [
      "print data['Time'].iget(0)\n",
      "print data['Time'].iget(-1)"
     ],
     "language": "python",
     "metadata": {},
     "outputs": [
      {
       "output_type": "stream",
       "stream": "stdout",
       "text": [
        "17:18:34.556\n",
        "17:23:04.876\n"
       ]
      }
     ],
     "prompt_number": 93
    },
    {
     "cell_type": "markdown",
     "metadata": {},
     "source": [
      "We need to write a quick function to convert these strings to floating point numbers."
     ]
    },
    {
     "cell_type": "code",
     "collapsed": false,
     "input": [
      "def convert_to_seconds(time_stamp):\n",
      "    hms = [float(x) for x in re.split('\\:',time_stamp)]\n",
      "    return 3600. * hms[0] + 60. * hms[1] + hms[2]\n",
      "\n",
      "\n",
      "# Apply above function to each element of Time series, add new column in data frame\n",
      "data['Time_f'] = data['Time'].apply(convert_to_seconds)"
     ],
     "language": "python",
     "metadata": {},
     "outputs": [],
     "prompt_number": 94
    },
    {
     "cell_type": "code",
     "collapsed": false,
     "input": [
      "plt.plot(data['Time_f'],data['Intensity'])"
     ],
     "language": "python",
     "metadata": {},
     "outputs": [
      {
       "metadata": {},
       "output_type": "pyout",
       "prompt_number": 95,
       "text": [
        "[<matplotlib.lines.Line2D at 0x11506f990>]"
       ]
      },
      {
       "metadata": {},
       "output_type": "display_data",
       "png": "[encoded data removed]",
       "text": [
        "<matplotlib.figure.Figure at 0x112954f90>"
       ]
      }
     ],
     "prompt_number": 95
    }
   ],
   "metadata": {}
  }
 ]
}
