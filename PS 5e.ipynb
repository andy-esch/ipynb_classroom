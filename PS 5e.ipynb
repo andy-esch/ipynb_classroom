{
 "metadata": {
  "name": ""
 },
 "nbformat": 3,
 "nbformat_minor": 0,
 "worksheets": [
  {
   "cells": [
    {
     "cell_type": "code",
     "collapsed": false,
     "input": [
      "%pylab inline"
     ],
     "language": "python",
     "metadata": {},
     "outputs": [
      {
       "output_type": "stream",
       "stream": "stdout",
       "text": [
        "Populating the interactive namespace from numpy and matplotlib\n"
       ]
      }
     ],
     "prompt_number": 3
    },
    {
     "cell_type": "heading",
     "level": 4,
     "metadata": {},
     "source": [
      "#1  \n",
      "\n",
      "Tarzan plans to cross a gorge by swinging in an arc from a hanging vine (Fig. 5-41). If his arms are capable of exerting a force of 1900 N on the rope, what is the maximum speed he can tolerate at the lowest point of his swing? His mass is 86 kg and the vine is 4.8 m long."
     ]
    },
    {
     "cell_type": "code",
     "collapsed": false,
     "input": [
      "Tmax = 1300.0 # N -- Tension in rope/max force Tarzan can exert\n",
      "m = 74.0 # kg\n",
      "r = 4.8 # m -- length of rope\n",
      "g = 9.81 # m/s^2"
     ],
     "language": "python",
     "metadata": {},
     "outputs": [],
     "prompt_number": 13
    },
    {
     "cell_type": "markdown",
     "metadata": {},
     "source": [
      "By Newton's 2nd Law,  \n",
      "\n",
      "$$\\Sigma F = T - mg = \\frac{mv^2}{r}$$\n",
      "\n",
      "Solving for v,  \n",
      "\n",
      "$$v = \\sqrt{r\\left(\\frac{T}{m}-g\\right)}$$"
     ]
    },
    {
     "cell_type": "code",
     "collapsed": false,
     "input": [
      "v = np.sqrt(r * (Tmax / m - g))\n",
      "print \"Maximum velocity = %0.4f m/s\" % v"
     ],
     "language": "python",
     "metadata": {},
     "outputs": [
      {
       "output_type": "stream",
       "stream": "stdout",
       "text": [
        "Maximum velocity = 6.1022 m/s\n"
       ]
      }
     ],
     "prompt_number": 14
    },
    {
     "cell_type": "heading",
     "level": 4,
     "metadata": {},
     "source": [
      "#2\n",
      "\n",
      "A jet pilot takes his aircraft in a vertical loop.\n",
      "\n",
      "(a) If the jet is moving at a speed of 1400 km/h at the lowest point of the loop, determine the minimum radius of the circle so that the centripetal acceleration at the lowest point does not exceed 6.0 g's."
     ]
    },
    {
     "cell_type": "markdown",
     "metadata": {},
     "source": [
      "At it's highest, the centripetal acceleration is 6.0g.  Therefore,  \n",
      "\n",
      "$$\\frac{1}{g}\\frac{v^2}{r_{\\text{min}}} = 6.0$$\n",
      "\n",
      "Solving for $r_{\\text{min}}$,  \n",
      "\n",
      "$$r_{\\text{min}} = \\frac{v^2}{6g}$$"
     ]
    },
    {
     "cell_type": "code",
     "collapsed": false,
     "input": [
      "v = 1400.0 * 1000.0 / 3600.0 # m/s (from km/h)\n",
      "g = 9.81 # m/s^2\n",
      "\n",
      "rmin = v**2 / (6.0 * g)\n",
      "print \"Smallest radius = %0.3f m\" % rmin"
     ],
     "language": "python",
     "metadata": {},
     "outputs": [
      {
       "output_type": "stream",
       "stream": "stdout",
       "text": [
        "Smallest radius = 2569.395 m\n"
       ]
      }
     ],
     "prompt_number": 20
    },
    {
     "cell_type": "markdown",
     "metadata": {},
     "source": [
      "At the bottom of the path, 2nd Law gives us:  \n",
      "\n",
      "$$\\Sigma F = N - mg = 6mg$$\n",
      "\n",
      "Solving for $N$,  \n",
      "\n",
      "$$N = 7mg$$\n",
      "\n",
      "At the top of the loop,  \n",
      "\n",
      "$$\\Sigma F = N + mg = 6mg$$\n",
      "\n",
      "Solving for $N$,  \n",
      "\n",
      "$$N = 5mg$$"
     ]
    },
    {
     "cell_type": "code",
     "collapsed": false,
     "input": [
      "m = 72 # kg (mass of pilot)\n",
      "wbottom = 7.0 * m * g\n",
      "wtop = 5.0 * m * g\n",
      "\n",
      "print \"Effective weight of the pilot at the bottom = %0.3f N\" % wbottom\n",
      "print \"Effective weight of the pilot at the top = %0.3f N\" % wtop"
     ],
     "language": "python",
     "metadata": {},
     "outputs": [
      {
       "output_type": "stream",
       "stream": "stdout",
       "text": [
        "Effective weight of the pilot at the bottom = 4944.240 N\n",
        "Effective weight of the pilot at the top = 3531.600 N\n"
       ]
      }
     ],
     "prompt_number": 21
    },
    {
     "cell_type": "heading",
     "level": 4,
     "metadata": {},
     "source": [
      "#3\n",
      "\n",
      "A curve of radius 30 m is banked for a design speed of 70 km/h. If the coefficient of static friction is 0.30 (wet pavement), at what range of speeds can a car safely make the curve?"
     ]
    },
    {
     "cell_type": "code",
     "collapsed": false,
     "input": [
      "r = 30 # m\n",
      "v = 70.0 * 1000.0 / 3600.0 # m/s (from km/h)\n",
      "mu = 0.3"
     ],
     "language": "python",
     "metadata": {},
     "outputs": [],
     "prompt_number": 22
    },
    {
     "cell_type": "markdown",
     "metadata": {},
     "source": [
      "From Newton's 2nd Law,  \n",
      "\n",
      "$$\\Sigma F_{y} = N - mg = 0$$\n",
      "$$\\Sigma F_{x} = \\mu N = \\frac{mv^2}{r}$$\n",
      "\n",
      "By the first equation, $N = mg$.  Therefore,  \n",
      "\n",
      "$$\\mu mg = \\frac{mv^2}{r}$$\n",
      "\n",
      "Solving for $v$, one finds  \n",
      "\n",
      "$$v = \\sqrt{\\mu rg}$$"
     ]
    },
    {
     "cell_type": "code",
     "collapsed": false,
     "input": [
      "v = np.sqrt(mu * r * g)\n",
      "\n",
      "print \"Maximum velocity = %0.3f m/s\" % v"
     ],
     "language": "python",
     "metadata": {},
     "outputs": [
      {
       "output_type": "stream",
       "stream": "stdout",
       "text": [
        "Maximum velocity = 9.396 m/s\n"
       ]
      }
     ],
     "prompt_number": 23
    },
    {
     "cell_type": "code",
     "collapsed": false,
     "input": [
      "G = 6.67e-11 # Univ Grav Const\n",
      "T = 12.2 * 365.0 * 24.0 * 3600.0 # Number of seconds in 12.2 years\n",
      "r = 7.5e10 # Separation distance of stars"
     ],
     "language": "python",
     "metadata": {},
     "outputs": [],
     "prompt_number": 31
    },
    {
     "cell_type": "markdown",
     "metadata": {},
     "source": [
      "$$T^2 = \\frac{4\\pi^2}{2GM}r^3$$\n",
      "\n",
      "Solving for $M$,  \n",
      "\n",
      "$$M = \\frac{2\\pi^2}{GT^2}r^3$$"
     ]
    },
    {
     "cell_type": "code",
     "collapsed": false,
     "input": [
      "M = 2.0 * np.pi**2 * r**3 / (G*T**2)\n",
      "M"
     ],
     "language": "python",
     "metadata": {},
     "outputs": [
      {
       "metadata": {},
       "output_type": "pyout",
       "prompt_number": 32,
       "text": [
        "8.434412207625319e+26"
       ]
      }
     ],
     "prompt_number": 32
    },
    {
     "cell_type": "code",
     "collapsed": false,
     "input": [],
     "language": "python",
     "metadata": {},
     "outputs": []
    }
   ],
   "metadata": {}
  }
 ]
}