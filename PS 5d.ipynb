{
 "metadata": {
  "name": ""
 },
 "nbformat": 3,
 "nbformat_minor": 0,
 "worksheets": [
  {
   "cells": [
    {
     "cell_type": "heading",
     "level": 2,
     "metadata": {},
     "source": [
      "Intensified Physics Problem Set 5b -- Example code using IPython Notebooks"
     ]
    },
    {
     "cell_type": "code",
     "collapsed": false,
     "input": [
      "# Needed for plotting (matplotlib) and importing various extensions (e.g., NumPy) to Python\n",
      "# Example usage: np.pi gets the value of pi (3.14...) from numpy (imported as np)\n",
      "%pylab inline"
     ],
     "language": "python",
     "metadata": {},
     "outputs": [
      {
       "output_type": "stream",
       "stream": "stdout",
       "text": [
        "Populating the interactive namespace from numpy and matplotlib\n"
       ]
      },
      {
       "output_type": "stream",
       "stream": "stderr",
       "text": [
        "WARNING: pylab import has clobbered these variables: ['dist', 'angle']\n",
        "`%pylab --no-import-all` prevents importing * from pylab and numpy\n"
       ]
      }
     ],
     "prompt_number": 116
    },
    {
     "cell_type": "markdown",
     "metadata": {},
     "source": [
      "Equations can be written in a language called $\\LaTeX$\n",
      "\n",
      "For example, 1/2 can be written as $\\frac{1}{2}$ when you put \\frac{1}{2} between \\$ symbols when in Markdown mode.\n",
      "\n",
      "Exponents are written as 2^3, which is rendered as $2^3$ when between the \\$ symbols.\n",
      "\n",
      "More complicated equations can be written with ease.  For example, Gauss' Law:\n",
      "$$\\Phi_{\\text{E}} = \\oint_{S} \\vec{E}\\cdot d\\vec{A} = \\frac{Q_{\\text{in}}}{\\varepsilon_{0}}$$"
     ]
    },
    {
     "cell_type": "heading",
     "level": 2,
     "metadata": {},
     "source": [
      "PS 5d  \n",
      "Problems \\#23, 33, 38, 43, 49, and 56"
     ]
    },
    {
     "cell_type": "heading",
     "level": 4,
     "metadata": {},
     "source": [
      "#23.  \n",
      "\n",
      "A car at the Indianapolis 500 accelerates uniformly from the pit area, going from rest to $320\\,\\,km/h$ in a semicircular arc with a radius of $200\\,\\,m$.  Determine the tangential and radial acceleration of the car when it is halfway through the turn, assuming constant tangential acceleration.  If the curve were flat, what would the coefficient of static friction have to be between the tires and the roadbed to provide this acceleration with no slipping or skidding?"
     ]
    },
    {
     "cell_type": "markdown",
     "metadata": {},
     "source": [
      "Using Newton's $2^{nd}$ Law as a starting point:\n",
      "\n",
      "$$\\Sigma F_{y} = N - mg = 0$$\n",
      "$$\\Sigma F_{x} = f = m a = m\\sqrt{a_{c}^2 + a_{t}^2}$$  \n",
      "Where $f = \\mu N$  \n",
      "Therefore, we can solve for $\\mu$ from our 2nd Law equations:\n",
      "$$\\mu mg = m\\sqrt{a_{c}^2 + a_{t}^2}$$  \n",
      "\n",
      "Solving for $\\mu$:  \n",
      "$$\\mu = \\frac{\\sqrt{a_{c}^2 + a_{t}^2}}{g}$$  \n",
      "\n",
      "\n",
      "$$f_{s} = \\mu N$$\n",
      "Which tells us that we need to find $\\alpha$, which is contained in $a_{t}$ and can be solved from the equation:  \n",
      "\n",
      "$$\\omega_{f}^2 = \\omega_{i}^2 + 2\\alpha \\Delta\\theta$$  \n",
      "\n",
      "Solving for $\\alpha$,  \n",
      "$$\\alpha = \\frac{\\omega_{f}^2 - \\omega_{i}^2}{2\\Delta\\theta}$$\n",
      "\n",
      "$$a_{t} = \\alpha r$$  \n",
      "\n",
      "For centripetal (radial) acceleration, we need $v_{\\text{half}}$ (the velocity at $\\theta = \\pi / 2$),\n",
      "$$v_{\\text{half}} = \\sqrt{v_i^2 + 2 a_{t} \\Delta x}$$\n",
      "\n",
      "and $$a_{c} = \\frac{v_{\\text{half}}^2}{r}$$ therefore  \n",
      "$$a = \\sqrt{a_{c}^2 + a_{t}^2}$$"
     ]
    },
    {
     "cell_type": "code",
     "collapsed": false,
     "input": [
      "# Declaring variables defined in problem (with units defined after comment character)\n",
      "vi = 0 # m/s\n",
      "vf = 320.0 * 1000.0 / 3600.0 # m/s (converted from km/h), velocity at theta = pi\n",
      "r = 200.0 # m -- radius of circular turn\n",
      "g = 9.81 # m/s^2\n",
      "dtheta = np.pi # radians (semi-circle)\n",
      "\n",
      "# Related quantities\n",
      "wi = vi / r # angular velocity in rad/s\n",
      "wf = vf / r # angular velocity in rad/s at half way point\n",
      "\n",
      "# Calculated quantities based on derivations above\n",
      "# Tangential Acceleration (constant throughout motion)\n",
      "alpha = (wf**2 - wi**2) / (2.0 * dtheta)\n",
      "at = alpha * r\n",
      "\n",
      "# Centripetal Acceleration at the halfway point\n",
      "# Not constant as velocity is changing (acceleration in angular direction)\n",
      "vfhalf = np.sqrt(0.00**2 + 2.0 * at * r * np.pi / 2.0) # Angular velocity at halfway point\n",
      "ac = (vfhalf)**2 / r # \n",
      "atotal = np.sqrt(ac**2 + at**2)\n",
      "mu = atotal / g"
     ],
     "language": "python",
     "metadata": {},
     "outputs": [],
     "prompt_number": 117
    },
    {
     "cell_type": "code",
     "collapsed": false,
     "input": [
      "# Printing all input and calculated values\n",
      "print \"vi = %0.2f m/s, vf = %0.2f m/s, r = %0.2f m, g = %0.2f m/s^2\" % (vi, vf, r, g)\n",
      "print \"wi = %0.2f rads/s, wf = %0.2f rads/s, dtheta = %0.2f rads, alpha = %0.4f rad/s^2\" % (wi, wf, dtheta, alpha)\n",
      "print \"at = %0.3f m/s^2, ac = %0.3f m/s^2, atotal = %0.3f m/s^2, mu = %0.3f\" % (at, ac, atotal, mu)"
     ],
     "language": "python",
     "metadata": {},
     "outputs": [
      {
       "output_type": "stream",
       "stream": "stdout",
       "text": [
        "vi = 0.00 m/s, vf = 88.89 m/s, r = 200.00 m, g = 9.81 m/s^2\n",
        "wi = 0.00 rads/s, wf = 0.44 rads/s, dtheta = 3.14 rads, alpha = 0.0314 rad/s^2\n",
        "at = 6.288 m/s^2, ac = 19.753 m/s^2, atotal = 20.730 m/s^2, mu = 2.113\n"
       ]
      }
     ],
     "prompt_number": 118
    },
    {
     "cell_type": "markdown",
     "metadata": {},
     "source": [
      "As seen above, the coefficient of friction needed is $\\mu = 2.113$."
     ]
    },
    {
     "cell_type": "heading",
     "level": 4,
     "metadata": {},
     "source": [
      "#2 What is the distance from the Earth's center to a point outside the Earth where the gravitational acceleration due to the Earth is 1/14 of its value at the Earth's surface?  Answer in meters."
     ]
    },
    {
     "cell_type": "markdown",
     "metadata": {},
     "source": [
      "For two objectes of mass $m$ and $m_{E}$, the force the mass experiences is given by Newton's 2nd Law of Motion:  \n",
      "\n",
      "$$\\Sigma F = \\frac{Gmm_{E}}{r^2} = ma$$\n",
      "\n",
      "Canceling the masses, we find the acceleration the first body experiences:  \n",
      "\n",
      "$$a = \\frac{Gm_{E}}{r^2}$$\n",
      "\n",
      "If $r$ is the radius of the earth, $r_{E}$, and $m_{E}$ is the mass of the Earth, then  \n",
      "\n",
      "$$g = \\frac{Gm_{E}}{r_{E}^{2}}$$\n",
      "\n",
      "Our goal is to find the $r = r_{a}$ such that a = g/14.  Therefore,  \n",
      "\n",
      "$$a = \\frac{Gm_{E}}{r_{a}^{2}} = \\frac{1}{14}\\frac{Gm_{E}}{r_{E}^{2}}$$\n",
      "\n",
      "Upon canceling $Gm_{E}$ from both sides, one finds  \n",
      "\n",
      "$$\\frac{1}{r_{a}^{2}} = \\frac{1}{14}\\frac{1}{r_{E}^{2}}$$\n",
      "\n",
      "Solving for $r_{a}$ gives  \n",
      "\n",
      "$$r_{a}^2 = 14r_{E}^2$$\n",
      "\n",
      "or  \n",
      "\n",
      "$$r_{a} = \\sqrt{14}\\,r_{E}$$"
     ]
    },
    {
     "cell_type": "code",
     "collapsed": false,
     "input": [
      "# Needed parameters\n",
      "weakness = 1.0 / 14.0 # Ratio acceleration of gravity at ra compared to surface of Earth\n",
      "re = 6378100 # m -- radius of the Earth in meters\n",
      "\n",
      "# Solution to problem\n",
      "ra = np.sqrt(1.0 / weakness) * re\n",
      "\n",
      "print \"At the distance of %0.0f meters from the center of th`e earth, which is %0.3f earth radii the acceleration of gravity is %0.3f as weak as compared to the surface of the earth\" % (ra, ra / re, weakness)"
     ],
     "language": "python",
     "metadata": {},
     "outputs": [
      {
       "output_type": "stream",
       "stream": "stdout",
       "text": [
        "At the distance of 23864665 meters from the center of th`e earth, which is 3.742 earth radii the acceleration of gravity is 0.071 as weak as compared to the surface of the earth\n"
       ]
      }
     ],
     "prompt_number": 119
    },
    {
     "cell_type": "heading",
     "level": 4,
     "metadata": {},
     "source": [
      "#3 Four 7.0 kg spheres are located at the corners of a square of side 0.70 m. Calculate the magnitude and direction of the gravitational force on one sphere due to the other three."
     ]
    },
    {
     "cell_type": "code",
     "collapsed": false,
     "input": [
      "# Locations of all the spheres\n",
      "l = 0.70 # m -- Length of one side of square formed by spheres\n",
      "x = [0.0, l, l, 0.0 ]\n",
      "y = [0.0, 0.0 , l, l]\n",
      "m = 7.0 # kg\n",
      "\n",
      "plt.scatter(x,y,color='blue',s=80)\n",
      "plt.title(\"Location of four 7.0 kg spheres, with forces shown\")\n",
      "for i in range(0,2):\n",
      "    plt.annotate('%s' % (i+1), xy=(x[i],y[i]+0.01), xycoords='data', xytext=(+10,+30), textcoords='offset points', fontsize=16, arrowprops=dict(arrowstyle=\"->\", connectionstyle=\"arc3, rad=0.2\"))\n",
      "\n",
      "for i in range(2,4):\n",
      "    plt.annotate('%s' % (i+1), xy=(x[i],y[i]-0.02), xycoords='data', xytext=(-10,-40), textcoords='offset points', fontsize=16, arrowprops=dict(arrowstyle=\"->\", connectionstyle=\"arc3, rad=0.2\"))\n"
     ],
     "language": "python",
     "metadata": {},
     "outputs": [
      {
       "metadata": {},
       "output_type": "display_data",
       "png": "[encoded data removed]",
       "text": [
        "<matplotlib.figure.Figure at 0x106e55c50>"
       ]
      }
     ],
     "prompt_number": 120
    },
    {
     "cell_type": "code",
     "collapsed": false,
     "input": [
      "def dist(i,j):\n",
      "    if i==j:\n",
      "        print \"Error: i = j\"\n",
      "        return 1\n",
      "    else:\n",
      "        return sqrt((x[i] - x[j])**2 + (y[i] - y[j])**2)\n",
      "\n",
      "G = 6.67e-11 # Nm^2/kg^2 -- Universal Gravitational Constant\n",
      "\n",
      "def Fg(i,j,m=7):\n",
      "    return G * m * m / dist(i,j)**2"
     ],
     "language": "python",
     "metadata": {},
     "outputs": [],
     "prompt_number": 121
    },
    {
     "cell_type": "code",
     "collapsed": false,
     "input": [
      "Ftotal = Fg(0,1) * np.array([1.0, 0.0]) + Fg(0,2) * np.sin(np.pi/4.0) * np.array([1.0, 1.0]) + Fg(0,3) * np.array([0.0, 1.0])\n",
      "print \"Total force = %s N\" % Ftotal\n",
      "print \"With a magnitude of %s N\" % sqrt(dot(Ftotal,Ftotal))"
     ],
     "language": "python",
     "metadata": {},
     "outputs": [
      {
       "output_type": "stream",
       "stream": "stdout",
       "text": [
        "Total force = [  9.02820112e-09   9.02820112e-09] N\n",
        "With a magnitude of 1.2767804461e-08 N\n"
       ]
      }
     ],
     "prompt_number": 122
    },
    {
     "cell_type": "code",
     "collapsed": false,
     "input": [
      "angle = 180.0 / np.pi * arctan(Ftotal[0] / Ftotal[1])\n",
      "print \"The net force is at an angle of %0.1f degrees\" % angle"
     ],
     "language": "python",
     "metadata": {},
     "outputs": [
      {
       "output_type": "stream",
       "stream": "stdout",
       "text": [
        "The net force is at an angle of 45.0 degrees\n"
       ]
      }
     ],
     "prompt_number": 123
    },
    {
     "cell_type": "code",
     "collapsed": false,
     "input": [
      "fig = plt.figure()\n",
      "ax = fig.add_subplot(111)\n",
      "ax.set_xlabel('x position (m)')\n",
      "ax.set_ylabel('y position (m)')\n",
      "ax.set_aspect('equal')\n",
      "ax.scatter(x,y,color='blue',s=80)\n",
      "plt.title(\"Location of four 7.0 kg spheres, with forces shown\")\n",
      "fs = 4.0e7 # scale forces for plot\n",
      "ax.arrow(x[0],y[0],Fg(0,1)*fs,0)\n",
      "ax.arrow(x[0],y[0],Fg(0,2)*fs,Fg(0,2)*fs)\n",
      "ax.arrow(x[0],y[0],0,Fg(0,3)*fs)\n",
      "ax.arrow(x[0],y[0],Ftotal[0]*fs,Ftotal[1]*fs,color='red')"
     ],
     "language": "python",
     "metadata": {},
     "outputs": [
      {
       "metadata": {},
       "output_type": "pyout",
       "prompt_number": 139,
       "text": [
        "<matplotlib.patches.FancyArrow at 0x108d3c050>"
       ]
      },
      {
       "metadata": {},
       "output_type": "display_data",
       "png": "[encoded data removed]",
       "text": [
        "<matplotlib.figure.Figure at 0x108d04510>"
       ]
      }
     ],
     "prompt_number": 139
    },
    {
     "cell_type": "heading",
     "level": 4,
     "metadata": {},
     "source": [
      "#4 During an Apollo lunar landing mission, the command module continued to orbit the moon at an altitude of 134 meters.  How long did it take to go around the moon once?"
     ]
    },
    {
     "cell_type": "code",
     "collapsed": false,
     "input": [
      "mm = 7.35e22 # kg -- mass of the moon\n",
      "rm = 1.737e6 # m -- radius of moon\n",
      "G = 6.67e-11 # Nm^2/kg^2 -- Universal Grav Const\n",
      "d = 134e3 # m -- distance above moon's surface\n",
      "r = d + rm # distance from center of moon\n",
      "\n",
      "T = (4.0 * np.pi**2 / (G * mm) * r**3)**(0.5)"
     ],
     "language": "python",
     "metadata": {},
     "outputs": [],
     "prompt_number": 143
    },
    {
     "cell_type": "markdown",
     "metadata": {},
     "source": [
      "Using Kepler's 3rd Law,  \n",
      "\n",
      "$$T^2 = \\frac{}{}a"
     ]
    },
    {
     "cell_type": "code",
     "collapsed": false,
     "input": [
      "print \"T = %0.2f seconds or %0.2f hours\" % (T, T/3600.0)"
     ],
     "language": "python",
     "metadata": {},
     "outputs": [
      {
       "output_type": "stream",
       "stream": "stdout",
       "text": [
        "T = 7262.46 seconds or 2.02 hours\n"
       ]
      }
     ],
     "prompt_number": 145
    },
    {
     "cell_type": "code",
     "collapsed": false,
     "input": [],
     "language": "python",
     "metadata": {},
     "outputs": []
    }
   ],
   "metadata": {}
  }
 ]
}