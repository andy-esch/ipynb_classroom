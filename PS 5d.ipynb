{
 "metadata": {
  "name": ""
 },
 "nbformat": 3,
 "nbformat_minor": 0,
 "worksheets": [
  {
   "cells": [
    {
     "cell_type": "heading",
     "level": 2,
     "metadata": {},
     "source": [
      "Intensified Physics Problem Set 5b -- Example code using IPython Notebooks"
     ]
    },
    {
     "cell_type": "code",
     "collapsed": false,
     "input": [
      "# Needed for plotting (matplotlib) and importing various extensions (e.g., NumPy) to Python\n",
      "# Example usage: np.pi gets the value of pi (3.14...) from numpy (imported as np)\n",
      "%pylab inline"
     ],
     "language": "python",
     "metadata": {},
     "outputs": [
      {
       "output_type": "stream",
       "stream": "stdout",
       "text": [
        "Populating the interactive namespace from numpy and matplotlib\n"
       ]
      }
     ],
     "prompt_number": 1
    },
    {
     "cell_type": "markdown",
     "metadata": {},
     "source": [
      "Equations can be written in a language called $\\LaTeX$\n",
      "\n",
      "For example, 1/2 can be written as $\\frac{1}{2}$ when you put \\frac{1}{2} between \\$ symbols when in Markdown mode.\n",
      "\n",
      "Exponents are written as 2^3, which is rendered as $2^3$ when between the \\$ symbols."
     ]
    },
    {
     "cell_type": "heading",
     "level": 2,
     "metadata": {},
     "source": [
      "PS 5d  \n",
      "Problems \\#23, 33, 38, 43, 49, and 56"
     ]
    },
    {
     "cell_type": "heading",
     "level": 4,
     "metadata": {},
     "source": [
      "#23.  \n",
      "\n",
      "A car at the Indianapolis 500 accelerates uniformly from the pit area, going from rest to $320\\,\\,km/h$ in a semicircular arc with a radius of $200\\,\\,m$.  Determine the tangential and radial acceleration of the car when it is halfway through the turn, assuming constant tangential acceleration.  If the curve were flat, what would the coefficient of static friction have to be between the tires and the roadbed to provide this acceleration with no slipping or skidding?"
     ]
    },
    {
     "cell_type": "markdown",
     "metadata": {},
     "source": [
      "Using Newton's $2^{nd}$ Law as a starting point:\n",
      "\n",
      "$$\\Sigma F_{y} = N - mg = 0$$\n",
      "$$\\Sigma F_{x} = f = m a = m\\sqrt{a_{c}^2 + a_{t}^2}$$  \n",
      "Where $f = \\mu N$  \n",
      "Therefore, we can solve for $\\mu$ from our 2nd Law equations:\n",
      "$$\\mu mg = m\\sqrt{a_{c}^2 + a_{t}^2}$$  \n",
      "\n",
      "Solving for $\\mu$:  \n",
      "$$\\mu = \\frac{\\sqrt{a_{c}^2 + a_{t}^2}}{g}$$  \n",
      "\n",
      "Which tells us that we need to find $\\alpha$, which is contained in $a_{t}$ and can be solved from the equation:  \n",
      "\n",
      "$$\\omega_{f}^2 = \\omega_{i}^2 + 2\\alpha \\Delta\\theta$$  \n",
      "\n",
      "Solving for $\\alpha$,  \n",
      "$$\\alpha = \\frac{\\omega_{f}^2 - \\omega_{i}^2}{2\\Delta\\theta}$$\n",
      "\n",
      "$$a_{t} = \\alpha r$$  \n",
      "\n",
      "For centripetal (radial) acceleration, we need $v_{\\text{half}}$ (the velocity at $\\theta = \\pi / 2$),\n",
      "$$v_{\\text{half}} = \\sqrt{v_i^2 + 2 a_{t} \\Delta x}$$\n",
      "\n",
      "and $$a_{c} = \\frac{v_{\\text{half}}^2}{r}$$ therefore  \n",
      "$$a = \\sqrt{a_{c}^2 + a_{t}^2}$$"
     ]
    },
    {
     "cell_type": "code",
     "collapsed": false,
     "input": [
      "# Declaring variables defined in problem (with units defined after comment character)\n",
      "vi = 0 # m/s\n",
      "vf = 320.0 * 1000.0 / 3600.0 # m/s (converted from km/h), velocity at theta = pi\n",
      "r = 200.0 # m -- radius of circular turn\n",
      "g = 9.81 # m/s^2\n",
      "dtheta = np.pi # radians (semi-circle)\n",
      "\n",
      "# Related quantities\n",
      "wi = vi / r # angular velocity in rad/s\n",
      "wf = vf / r # angular velocity in rad/s at half way point\n",
      "\n",
      "# Calculated quantities based on derivations above\n",
      "# Tangential Acceleration (constant throughout motion)\n",
      "alpha = (wf**2 - wi**2) / (2.0 * dtheta)\n",
      "at = alpha * r\n",
      "\n",
      "# Centripetal Acceleration at the halfway point\n",
      "# Not constant as velocity is changing (acceleration in angular direction)\n",
      "vfhalf = np.sqrt(0.00**2 + 2.0 * at * r * np.pi / 2.0) # Angular velocity at halfway point\n",
      "ac = (vfhalf)**2 / r # \n",
      "atotal = np.sqrt(ac**2 + at**2)\n",
      "mu = atotal / g"
     ],
     "language": "python",
     "metadata": {},
     "outputs": [],
     "prompt_number": 4
    },
    {
     "cell_type": "code",
     "collapsed": false,
     "input": [
      "# Printing all input and calculated values\n",
      "print \"vi = %0.2f m/s, vf = %0.2f m/s, r = %0.2f m, g = %0.2f m/s^2\" % (vi, vf, r, g)\n",
      "print \"wi = %0.2f rads/s, wf = %0.2f rads/s, dtheta = %0.2f rads, alpha = %0.4f rad/s^2\" % (wi, wf, dtheta, alpha)\n",
      "print \"at = %0.3f m/s^2, ac = %0.3f m/s^2, atotal = %0.3f m/s^2, mu = %0.3f\" % (at, ac, atotal, mu)"
     ],
     "language": "python",
     "metadata": {},
     "outputs": [
      {
       "output_type": "stream",
       "stream": "stdout",
       "text": [
        "vi = 0.00 m/s, vf = 88.89 m/s, r = 200.00 m, g = 9.81 m/s^2\n",
        "wi = 0.00 rads/s, wf = 0.44 rads/s, dtheta = 3.14 rads, alpha = 0.0314 rad/s^2\n",
        "at = 6.288 m/s^2, ac = 19.753 m/s^2, atotal = 20.730 m/s^2, mu = 2.113\n"
       ]
      }
     ],
     "prompt_number": 5
    },
    {
     "cell_type": "markdown",
     "metadata": {},
     "source": [
      "As seen above, the coefficient of friction needed is $\\mu = 2.113$."
     ]
    }
   ],
   "metadata": {}
  }
 ]
}