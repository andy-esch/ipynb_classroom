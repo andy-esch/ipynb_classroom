{
 "metadata": {
  "name": "",
  "signature": "sha256:7208ac7fd4f8e7de42f563337912360d4f8082d450f3e53b39461932e469a6c1"
 },
 "nbformat": 3,
 "nbformat_minor": 0,
 "worksheets": [
  {
   "cells": [
    {
     "cell_type": "heading",
     "level": 3,
     "metadata": {},
     "source": [
      "Chapter 6 Challenge Problem"
     ]
    },
    {
     "cell_type": "code",
     "collapsed": false,
     "input": [
      "import numpy as np\n",
      "\n",
      "# Initialize variables given im problem\n",
      "k = 1000. # N/m -- Spring constant\n",
      "dx = 0.15 # m -- Displacement of spring\n",
      "m = 0.2 # kg -- mass of object\n",
      "mu = 0.2 # unitless -- Coefficient of friction between object and surface\n",
      "th = np.deg2rad(45.) # rads -- incline of slope\n",
      "h = 2. # m -- height above ground at top of incline\n",
      "l = 2. / np.cos(th) # m -- length of incline that friction acts over\n",
      "g = 9.81 # m/s^2"
     ],
     "language": "python",
     "metadata": {},
     "outputs": [],
     "prompt_number": 5
    },
    {
     "cell_type": "markdown",
     "metadata": {},
     "source": [
      "The work done by the spring is\n",
      "\n",
      "$$W_{spring} = \\frac{1}{2}k\\Delta x^2$$\n",
      "\n",
      "While the work done by friction is\n",
      "\n",
      "$$W_{friction} = -fl = -\\mu N l$$\n",
      "\n",
      "To find the normal force, look at the FBD of the object when it is on the incline.  One finds\n",
      "\n",
      "$$N = mg\\cos\\theta$$\n",
      "\n",
      "Which gives the work due to friction:\n",
      "\n",
      "$$W_f = -\\mu mgl\\cos\\theta$$\n",
      "\n",
      "While the work done by gravity is \n",
      "\n",
      "$$W_{grav} = -mgh$$\n",
      "\n",
      "Therefore, by the Work-KE theorem, \n",
      "\n",
      "$$W_{grav} + W_{f} + W_{spring} = \\frac{1}{2}mv_{f}^2-\\frac{1}{2}mv_{i}^2$$\n",
      "\n",
      "or\n",
      "\n",
      "$$\\frac{1}{2}k\\left(\\Delta x\\right)^2 - \\mu mgl\\cos\\theta - mgh = \\frac{1}{2}mv_{f}^2$$\n",
      "\n",
      "since it started out at rest. Solving for $v^2$,\n",
      "\n",
      "$$v_{f}^2 = \\frac{k}{m}\\left(\\Delta x\\right)^2 - 2\\mu gl\\cos\\theta - 2gh$$\n",
      "\n"
     ]
    },
    {
     "cell_type": "code",
     "collapsed": false,
     "input": [],
     "language": "python",
     "metadata": {},
     "outputs": [],
     "prompt_number": 5
    },
    {
     "cell_type": "markdown",
     "metadata": {},
     "source": [
      "We can use the range equation to find the distance traveled once the object has reached the top of the incline. It will have an angle of $45^{\\circ}$ w/r/t the horizontal.\n",
      "\n",
      "\\begin{align}\n",
      "d &= \\frac{v^2}{g}\\sin\\left(2\\theta\\right)\\\\\n",
      "  &= \\frac{k}{mg}\\left[\\left(\\Delta x\\right)^2 - 2\\mu gl\\cos\\theta - 2gh\\right]\\sin\\left(90^{\\circ}\\right)\\\\\n",
      "  &= \\frac{k}{mg}\\left(\\Delta x\\right)^2 - 2\\mu l\\cos\\theta - 2h\n",
      "\\end{align}"
     ]
    },
    {
     "cell_type": "code",
     "collapsed": false,
     "input": [
      "def find_d(spr_cnst, mass, acc_g, displ, coeff_fric, length, height, theta):\n",
      "    t1 = spr_cnst * displ**2 / (mass * acc_g)\n",
      "    t2 = 2. * coeff_fric * length * np.cos(theta)\n",
      "    t3 = 2. * height\n",
      "    return t1 + t2 + t3\n",
      "\n",
      "print \"distance traveled, d = %0.2f m\" % find_d(k,m,g,dx,mu,l,h,th)"
     ],
     "language": "python",
     "metadata": {},
     "outputs": [
      {
       "output_type": "stream",
       "stream": "stdout",
       "text": [
        "distance traveled, d = 16.27 m\n"
       ]
      }
     ],
     "prompt_number": 6
    },
    {
     "cell_type": "code",
     "collapsed": false,
     "input": [],
     "language": "python",
     "metadata": {},
     "outputs": []
    }
   ],
   "metadata": {}
  }
 ]
}