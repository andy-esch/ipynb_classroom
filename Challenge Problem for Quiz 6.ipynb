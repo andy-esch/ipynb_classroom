{
 "metadata": {
  "name": "",
  "signature": "sha256:3b78ece6c9f0586d0dfd9756054b07fb5820abfb93a0baf856998bb8336d4423"
 },
 "nbformat": 3,
 "nbformat_minor": 0,
 "worksheets": [
  {
   "cells": [
    {
     "cell_type": "heading",
     "level": 1,
     "metadata": {},
     "source": [
      "Chapter 6 Challenge Problem"
     ]
    },
    {
     "cell_type": "markdown",
     "metadata": {},
     "source": [
      "<p style=\"font-size: 115%;\">A spring is used to launch a block up a rough incline. The spring constant is $1000\\,N/m$. You compress the spring $0.15\\,m$ and launch a $200\\,g$ block towards the incline. The horizontal surface is frictionless, but there is friction along the incline. Assume the block's coefficient of kinetic friction on the incline is 0.20. Find the distance $d$ that the block sails through the air.</p>\n",
      "\n",
      "<img src=\"http://www.apsva.us/cms/lib2/VA01000586/Centricity/domain/3724/intensified/ps-images/Ch6_ChallengeProblem.jpeg\" />"
     ]
    },
    {
     "cell_type": "code",
     "collapsed": true,
     "input": [
      "%pylab inline\n",
      "import numpy as np; # Numerical package that includes many useful functions and constants\n",
      "\n",
      "# Initialize variables given im problem\n",
      "k = 1000. # N/m -- Spring constant\n",
      "dx = 0.15 # m -- Displacement of spring\n",
      "m = 0.2 # kg -- mass of object\n",
      "mu = 0.2 # unitless -- Coefficient of friction between object and surface\n",
      "th = np.deg2rad(45.) # rads -- incline of slope\n",
      "h = 2. # m -- height above ground at top of incline\n",
      "l = 2. / np.cos(th) # m -- length of incline that friction acts over\n",
      "g = 9.81 # m/s^2"
     ],
     "language": "python",
     "metadata": {},
     "outputs": [
      {
       "output_type": "stream",
       "stream": "stdout",
       "text": [
        "Populating the interactive namespace from numpy and matplotlib\n"
       ]
      }
     ],
     "prompt_number": 28
    },
    {
     "cell_type": "markdown",
     "metadata": {},
     "source": [
      "<h2 style=\"margin-bottom: 1em;\">Finding the velocity through the Work-Energy Theorem</h2>\n",
      "There are three forces that do work on the object by the time it reaches the top of the incline: (1) spring force, (2) frictional force, and (3) gravitational force. First we will find all the work done, and then use the Work-Energy Theorem to solve for velocity.\n",
      "\n",
      "<ol>\n",
      "<li><a href=\"http://en.wikipedia.org/wiki/Hooke's_law\">Hooke's Law</a> gives $F_s = -k\\cdot\\Delta x$ as the force required to push or pull on a spring. The spring, however, provides a force of $F_s = +k\\cdot\\Delta x$ on the block, which moves in the same direction as the force ($\\cos\\left(0^{\\circ}\\right) = +1$). The work done by the spring is then  \n",
      "\n",
      "$$W_{spring} = \\frac{1}{2}k\\left(\\Delta x\\right)^2$$\n",
      "\n",
      "</li>\n",
      "\n",
      "<li>Frictional forces act opposite the direction of motion, so the work done on the object is negative (i.e., $\\cos\\left(180^{\\circ}\\right) = -1$):\n",
      "  \n",
      "  <br />\n",
      "$$W_{friction} = -fl = -\\mu N l,$$  \n",
      "<br />\n",
      "where $f$ is the frictional force, $l$ is the distance the force acts on the object, $\\mu$ is the coefficient of friction, and $N$ is the normal force.\n",
      "\n",
      "To find the normal force, look at the FBD of the object when it is on the incline.  One finds\n",
      "\n",
      "$$N = mg\\cos\\theta$$\n",
      "\n",
      "Which gives the work due to friction:\n",
      "\n",
      "$$W_f = -\\mu mgl\\cos\\theta$$\n",
      "\n",
      "</li>\n",
      "<li>\n",
      "The force of gravity ($mg$) acts downward, while the block moves upwards a distance $h$. Therefore, $\\theta = 180^{\\circ}$, so\n",
      "\n",
      "$$W_{grav} = -mgh$$\n",
      "</li>\n",
      "</ol>\n",
      "\n",
      "By the Work-Energy theorem, we are now able to solve for the velocity of the object at the top of the incline:\n",
      "\n",
      "$$W_{grav} + W_{f} + W_{spring} = \\frac{1}{2}mv_{f}^2-\\frac{1}{2}mv_{i}^2$$\n",
      "\n",
      "Putting in our expressions for the three types of work done on the block, and noting that $v_i = 0\\,m/s$,\n",
      "\n",
      "$$\\frac{1}{2}k\\left(\\Delta x\\right)^2 - \\mu mgl\\cos\\theta - mgh = \\frac{1}{2}mv_{f}^2$$\n",
      "\n",
      "Solving for $v_{f}^2$,\n",
      "\n",
      "$$v_{f}^2 = \\frac{k}{m}\\left(\\Delta x\\right)^2 - 2\\mu gl\\cos\\theta - 2gh$$\n",
      "\n"
     ]
    },
    {
     "cell_type": "markdown",
     "metadata": {},
     "source": [
      "We can use the <a href=\"http://en.wikipedia.org/wiki/Range_of_a_projectile\">range equation</a> to find the distance traveled once the object has reached the top of the incline. It will have an angle of $45^{\\circ}$ w/r/t the horizontal.\n",
      "\n",
      "\\begin{align}\n",
      "d &= \\frac{v^2}{g}\\sin\\left(2\\theta\\right)\\\\\n",
      "  &= \\left(\\frac{k}{mg}\\left(\\Delta x\\right)^2 - 2\\mu l\\cos\\theta - 2h\\right)\\sin\\left(90^{\\circ}\\right)\\\\\n",
      "  &= \\frac{k}{mg}\\left(\\Delta x\\right)^2 - 2\\mu l\\cos\\theta - 2h\n",
      "\\end{align}"
     ]
    },
    {
     "cell_type": "code",
     "collapsed": false,
     "input": [
      "def find_d(spr_cnst, mass, acc_g, displ, coeff_fric, length, height, theta):\n",
      "    \"Calculate distance object traveled on a horizontal surface\" \n",
      "    t1 = spr_cnst * displ**2 / (mass * acc_g)\n",
      "    t2 = -2. * coeff_fric * length * np.cos(theta)\n",
      "    t3 = -2. * height\n",
      "    return t1 + t2 + t3\n",
      "\n",
      "print \"Distance traveled, d = %0.2f m\" % round(find_d(k,m,g,dx,mu,l,h,th),2)"
     ],
     "language": "python",
     "metadata": {},
     "outputs": [
      {
       "output_type": "stream",
       "stream": "stdout",
       "text": [
        "Distance traveled, d = 6.67 m\n"
       ]
      }
     ],
     "prompt_number": 34
    }
   ],
   "metadata": {}
  }
 ]
}