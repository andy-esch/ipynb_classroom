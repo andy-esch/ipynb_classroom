{
 "metadata": {
  "name": "",
  "signature": "sha256:15ca82428ea10bbeb20869447147acfaa6520b66c87f8159dc920369903e0fb1"
 },
 "nbformat": 3,
 "nbformat_minor": 0,
 "worksheets": [
  {
   "cells": [
    {
     "cell_type": "code",
     "collapsed": false,
     "input": [
      "import numpy as np"
     ],
     "language": "python",
     "metadata": {
      "slideshow": {
       "slide_type": "skip"
      }
     },
     "outputs": [],
     "prompt_number": 2
    },
    {
     "cell_type": "code",
     "collapsed": false,
     "input": [
      "m= 500. # kg\n",
      "v0= 12. # m/s\n",
      "hA= hE= hF= hG= 10 # m\n",
      "g= 9.81 # m/s^2\n",
      "r= 30. # m (radius of curvature)"
     ],
     "language": "python",
     "metadata": {
      "slideshow": {
       "slide_type": "slide"
      }
     },
     "outputs": [],
     "prompt_number": 3
    },
    {
     "cell_type": "heading",
     "level": 4,
     "metadata": {
      "slideshow": {
       "slide_type": "slide"
      }
     },
     "source": [
      "a) Draw FBDs for the rollercoaster at points D and F. Indicate the direction of acceleration for each FBD, if any. If there is no acceleration at that point then indicate $\\textbf{a} = \\vec{0}\\,N$"
     ]
    },
    {
     "cell_type": "markdown",
     "metadata": {
      "slideshow": {
       "slide_type": "slide"
      }
     },
     "source": [
      "See Mr. E for answer."
     ]
    },
    {
     "cell_type": "heading",
     "level": 4,
     "metadata": {
      "slideshow": {
       "slide_type": "slide"
      }
     },
     "source": [
      "b) If the car is just barely to make it over the hill at point B, what must be the height of pt. B above the ground? Explain why your answer is reasonable."
     ]
    },
    {
     "cell_type": "markdown",
     "metadata": {
      "slideshow": {
       "slide_type": "slide"
      }
     },
     "source": [
      "For the car to \"just make it over\", the car will have a velocity of $0\\,m/s$, and therefore a kinetic energy of $0\\,J$. Threfore, \n",
      "\n",
      "$PE_{i} + KE_{i} = PE_{f}$\n",
      "\n",
      "\n",
      "$mgh_{A} + \\frac{1}{2}mv^2 = mgh_{B}$\n",
      "\n",
      "Solving for $h_{B}$ gives:\n",
      "\n",
      "$h_{B} = h_{A} + \\frac{1}{2}\\frac{v^2}{g}$"
     ]
    },
    {
     "cell_type": "code",
     "collapsed": false,
     "input": [
      "def find_hB(velocity, height_A, g= 9.81):\n",
      "    return height_A + 0.5 * velocity**2 / g\n",
      "\n",
      "hB= find_hB(v0,hA)\n",
      "\n",
      "print \"hB = %0.2f m\" % hB"
     ],
     "language": "python",
     "metadata": {
      "slideshow": {
       "slide_type": "slide"
      }
     },
     "outputs": [
      {
       "output_type": "stream",
       "stream": "stdout",
       "text": [
        "hB = 17.34 m\n"
       ]
      }
     ],
     "prompt_number": 4
    },
    {
     "cell_type": "heading",
     "level": 4,
     "metadata": {
      "slideshow": {
       "slide_type": "slide"
      }
     },
     "source": [
      "c) If the car is to just barely make it over the hill at point B, what should be the magnitude of the force exerted by the track on the car at that point? Explain why your answer is reasonable."
     ]
    },
    {
     "cell_type": "markdown",
     "metadata": {
      "slideshow": {
       "slide_type": "slide"
      }
     },
     "source": [
      "As h --> 17.34 m, v --> 0 m/s, therefore $\\Sigma F = F_{N} - F_{g} = \\frac{mv^2}{r} = 0\\,N$ and $F_{N} = F_{g}$. The force from the track (the normal force) is equal to the force of gravity (the weight)."
     ]
    },
    {
     "cell_type": "code",
     "collapsed": false,
     "input": [
      "FN = m * g\n",
      "print \"FN = %0.0f N\" % FN"
     ],
     "language": "python",
     "metadata": {
      "slideshow": {
       "slide_type": "slide"
      }
     },
     "outputs": [
      {
       "output_type": "stream",
       "stream": "stdout",
       "text": [
        "FN = 4905 N\n"
       ]
      }
     ],
     "prompt_number": 5
    },
    {
     "cell_type": "heading",
     "level": 4,
     "metadata": {
      "slideshow": {
       "slide_type": "slide"
      }
     },
     "source": [
      "d) What will be the acceleration of the car at point C? Explain why your answer is reasonable."
     ]
    },
    {
     "cell_type": "markdown",
     "metadata": {
      "slideshow": {
       "slide_type": "slide"
      }
     },
     "source": [
      "From the FBD,  \n",
      "\n",
      "$\\Sigma F_{x} = mg\\sin\\theta = ma_{x}$\n",
      "\n",
      "$\\Sigma F_{y} = N - mg\\cos\\theta = 0\\,N$\n",
      "\n",
      "$a = \\sqrt{a_{x}^2 + a_{y}^2} = a_{x}$ Since $a_{y} = 0\\,m/s^2$\n",
      "\n",
      "and\n",
      "\n",
      "$a = g\\sin\\theta$"
     ]
    },
    {
     "cell_type": "code",
     "collapsed": false,
     "input": [
      "a = g * np.sin(np.deg2rad(30.))\n",
      "\n",
      "print \"a = %0.2f m/s^2\" % a"
     ],
     "language": "python",
     "metadata": {
      "slideshow": {
       "slide_type": "slide"
      }
     },
     "outputs": [
      {
       "output_type": "stream",
       "stream": "stdout",
       "text": [
        "a = 4.90 m/s^2\n"
       ]
      }
     ],
     "prompt_number": 6
    },
    {
     "cell_type": "heading",
     "level": 4,
     "metadata": {
      "slideshow": {
       "slide_type": "slide"
      }
     },
     "source": [
      "e) What will be the magnitude and direction of the force exerted by the track on the car at point D? Explain why your answer is reasonable."
     ]
    },
    {
     "cell_type": "markdown",
     "metadata": {
      "slideshow": {
       "slide_type": "slide"
      }
     },
     "source": [
      "$\\Sigma F = F_{N} - mg = \\frac{mv^2}{r}$\n",
      "\n",
      "Solving for $F_{N}$,\n",
      "\n",
      "$F_{N} = mg + \\frac{mv^2}{r}$\n",
      "\n",
      "To find the velocity at the bottom, \n",
      "\n",
      "$mgh_{A} + \\frac{1}{2}mv_{A}^2 = mgh_{D} + \\frac{1}{2}mv_{D}^2$\n",
      "\n",
      "Since $h_{D} = 0\\,m$, \n",
      "\n",
      "$v_{D} = \\sqrt{2gh_{A} + v_{A}^2}$"
     ]
    },
    {
     "cell_type": "code",
     "collapsed": false,
     "input": [
      "def find_vD(heightA,velocityA,g=9.81):\n",
      "    return np.sqrt(2. * g * heightA + velocityA**2)\n",
      "\n",
      "F_ND= m*g + m * find_vD(hA,v0)**2 / r \n",
      "\n",
      "print \"vD = %0.2f m/s\" % find_vD(hA,v0)\n",
      "print \"F_ND = %0.0f N\" % F_ND"
     ],
     "language": "python",
     "metadata": {
      "slideshow": {
       "slide_type": "slide"
      }
     },
     "outputs": [
      {
       "output_type": "stream",
       "stream": "stdout",
       "text": [
        "vD = 18.44 m/s\n",
        "F_ND = 10575 N\n"
       ]
      }
     ],
     "prompt_number": 7
    },
    {
     "cell_type": "heading",
     "level": 4,
     "metadata": {
      "slideshow": {
       "slide_type": "slide"
      }
     },
     "source": [
      "f) What will be the magintude of the force exerted by the track on the car at point F? Explain why your answer is reasonable."
     ]
    },
    {
     "cell_type": "markdown",
     "metadata": {
      "slideshow": {
       "slide_type": "slide"
      }
     },
     "source": [
      "$$\\Sigma F_{y} = F_{N}\\cos\\theta - mg = 0$$\n",
      "\n",
      "$$\\Sigma F_{x} = F_{N}\\sin\\theta = \\frac{mv^2}{r}$$\n",
      "\n",
      "Given that point F is at the same height of point A, $v_{A} = v_{F} = 12\\,m/s$ by the conservation of mechanical energy.\n",
      "\n",
      "Solving for $F_{N}$ from $\\Sigma F_{y}$,\n",
      "\n",
      "$$F_{N} = \\frac{mg}{\\cos\\theta}$$\n",
      "\n",
      "Putting this equation into $\\Sigma F_{x}$ gives,\n",
      "\n",
      "$$g\\tan\\theta = \\frac{v^2}{r}$$\n",
      "\n",
      "or\n",
      "\n",
      "$$\\theta = \\tan^{-1}\\left(\\frac{v^2}{rg}\\right)$$\n",
      "\n",
      "This gives the angle of that the track pushes on the roller coaster. To find the magnitude, use the equation,\n",
      "\n",
      "$$F_{N} = \\frac{mg}{\\cos\\theta}$$"
     ]
    },
    {
     "cell_type": "code",
     "collapsed": false,
     "input": [
      "def find_theta(velocity, radius, acc_g):\n",
      "    return np.rad2deg(np.arctan(velocity**2  / (radius * acc_g)))\n",
      "\n",
      "def find_magnitude(mass,acc_g,th):\n",
      "    return mass * acc_g / np.cos(np.deg2rad(th))\n",
      "\n",
      "print \"theta = %0.2f degrees, FN = %0.2f N\" % (find_theta(v0,r,g), find_magnitude(m,g,find_theta(v0,r,g)))"
     ],
     "language": "python",
     "metadata": {
      "slideshow": {
       "slide_type": "slide"
      }
     },
     "outputs": [
      {
       "output_type": "stream",
       "stream": "stdout",
       "text": [
        "theta = 26.07 degrees, FN = 5460.68 N\n"
       ]
      }
     ],
     "prompt_number": 12
    },
    {
     "cell_type": "heading",
     "level": 4,
     "metadata": {},
     "source": [
      "g) At pt G a constant braking force is to be applied to the car, bringing it to a halt in a distance of 25 m. What is the magnitude of this required braking force?"
     ]
    },
    {
     "cell_type": "markdown",
     "metadata": {},
     "source": [
      "By the <a href=\"http://faculty.wwu.edu/vawter/PhysicsNet/Topics/Work/WorkEngergyTheorem.html\">Work-Kinetic Energy Theorem</a>,\n",
      "\n",
      "$$W = \\Delta KE$$\n",
      "\n",
      "In our case, the roller coaster is at a height of 10 meters so it's velocity is equal to $v_{A} = 12\\, m/s$, the velocity at the beginning of the track. When it is completely stopped it's velocity is $0\\,m/s$. Therefore, \n",
      "\n",
      "$$F_{brakes}\\times \\Delta x = KE_{f} - KE_{i}$$\n",
      "$$ = 0 - \\frac{1}{2}mv^2$$\n",
      "\n",
      "Solving for $F_{brakes}$ gives,\n",
      "\n",
      "$$F_{brakes} = -\\frac{\\frac{1}{2}mv^2}{\\Delta x}$$"
     ]
    },
    {
     "cell_type": "code",
     "collapsed": false,
     "input": [
      "def find_Fbrakes(mass,velocity,displacement):\n",
      "    return -0.5 * mass * velocity**2 / displacement\n",
      "\n",
      "print \"Fbrakes = %0.0f N\" % find_Fbrakes(m,v0,25)"
     ],
     "language": "python",
     "metadata": {},
     "outputs": [
      {
       "output_type": "stream",
       "stream": "stdout",
       "text": [
        "Fbrakes = -1440 N\n"
       ]
      }
     ],
     "prompt_number": 16
    },
    {
     "cell_type": "code",
     "collapsed": false,
     "input": [],
     "language": "python",
     "metadata": {},
     "outputs": []
    }
   ],
   "metadata": {}
  }
 ]
}