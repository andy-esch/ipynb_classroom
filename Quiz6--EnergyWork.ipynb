{
 "metadata": {
  "name": "",
  "signature": "sha256:f4a38a3292b5aef50d69fe80a4bcad407969cf243163375f6969c3e7d452a01a"
 },
 "nbformat": 3,
 "nbformat_minor": 0,
 "worksheets": [
  {
   "cells": [
    {
     "cell_type": "heading",
     "level": 1,
     "metadata": {},
     "source": [
      "Quiz 6 Problem Solutions"
     ]
    },
    {
     "cell_type": "heading",
     "level": 3,
     "metadata": {},
     "source": [
      "1. A 4.0 kg block on a frictionless table is attached to a horizontal spring."
     ]
    },
    {
     "cell_type": "code",
     "collapsed": false,
     "input": [
      "import numpy as np\n",
      "import pandas as pd\n",
      "%pylab inline"
     ],
     "language": "python",
     "metadata": {
      "slideshow": {
       "slide_type": "skip"
      }
     },
     "outputs": [
      {
       "output_type": "stream",
       "stream": "stdout",
       "text": [
        "Populating the interactive namespace from numpy and matplotlib\n"
       ]
      }
     ],
     "prompt_number": 14
    },
    {
     "cell_type": "heading",
     "level": 4,
     "metadata": {},
     "source": [
      "a) The spring constant is slowly compressed and the following data colleted. Graph this data and determine the spring constan $k$ using the graph provided. Be sure to title your graph and correctly label each axis."
     ]
    },
    {
     "cell_type": "code",
     "collapsed": false,
     "input": [
      "problem1_data = pd.DataFrame({'disp':[1.00,1.95,3.01,4.02,5.01], 'force':[4.04,7.96,12.01,16.02,19.97]})\n",
      "problem1_data['disp'] = problem1_data['disp'] * 10**(-2)\n",
      "problem1_data # Display data"
     ],
     "language": "python",
     "metadata": {},
     "outputs": [
      {
       "html": [
        "<div style=\"max-height:1000px;max-width:1500px;overflow:auto;\">\n",
        "<table border=\"1\" class=\"dataframe\">\n",
        "  <thead>\n",
        "    <tr style=\"text-align: right;\">\n",
        "      <th></th>\n",
        "      <th>disp</th>\n",
        "      <th>force</th>\n",
        "    </tr>\n",
        "  </thead>\n",
        "  <tbody>\n",
        "    <tr>\n",
        "      <th>0</th>\n",
        "      <td> 0.0100</td>\n",
        "      <td>  4.04</td>\n",
        "    </tr>\n",
        "    <tr>\n",
        "      <th>1</th>\n",
        "      <td> 0.0195</td>\n",
        "      <td>  7.96</td>\n",
        "    </tr>\n",
        "    <tr>\n",
        "      <th>2</th>\n",
        "      <td> 0.0301</td>\n",
        "      <td> 12.01</td>\n",
        "    </tr>\n",
        "    <tr>\n",
        "      <th>3</th>\n",
        "      <td> 0.0402</td>\n",
        "      <td> 16.02</td>\n",
        "    </tr>\n",
        "    <tr>\n",
        "      <th>4</th>\n",
        "      <td> 0.0501</td>\n",
        "      <td> 19.97</td>\n",
        "    </tr>\n",
        "  </tbody>\n",
        "</table>\n",
        "</div>"
       ],
       "metadata": {},
       "output_type": "pyout",
       "prompt_number": 3,
       "text": [
        "     disp  force\n",
        "0  0.0100   4.04\n",
        "1  0.0195   7.96\n",
        "2  0.0301  12.01\n",
        "3  0.0402  16.02\n",
        "4  0.0501  19.97"
       ]
      }
     ],
     "prompt_number": 3
    },
    {
     "cell_type": "code",
     "collapsed": false,
     "input": [
      "plt.scatter(problem1_data['disp'],problem1_data['force'],s=80,facecolors='none',edgecolors='k')\n",
      "plt.xlim([0,np.max(problem1_data['disp'])*1.1])\n",
      "plt.ylim([0,np.max(problem1_data['force'])*1.1])\n",
      "plt.title(r'Force vs. Displacement of a Spring')\n",
      "plt.xlabel(r'Displacement (m)')\n",
      "plt.ylabel(r'Force (N)')\n",
      "\n",
      "p = np.polyfit(problem1_data['disp'],problem1_data['force'],1)\n",
      "print p\n",
      "x = np.linspace(0,1.1*np.max(problem1_data['disp']),20)\n",
      "plt.plot(x,p[0]*x+p[1],'r-')\n",
      "\n",
      "print \"k = slope of curve = %0.2f N/m\" % p[0]\n",
      "k = p[0] # N/m -- Spring Constant"
     ],
     "language": "python",
     "metadata": {},
     "outputs": [
      {
       "output_type": "stream",
       "stream": "stdout",
       "text": [
        "[  3.95579726e+02   1.40519803e-01]\n",
        "k = slope of curve = 395.58 N/m\n"
       ]
      },
      {
       "metadata": {},
       "output_type": "display_data",
       "png": "[encoded data removed]",
       "text": [
        "<matplotlib.figure.Figure at 0x107dc3cd0>"
       ]
      }
     ],
     "prompt_number": 4
    },
    {
     "cell_type": "markdown",
     "metadata": {},
     "source": [
      "To find the work done on the block by the spring as it moves from $x_{1} = -5\\times10^{-2}\\,m$ to equilibrium at $x_{2} = 0.0\\,m$, find the area under the curve. That gives us\n",
      "\n",
      "\\begin{equation}\n",
      "W_{spring} = \\frac{1}{2}k\\left(\\Delta x\\right)^2\n",
      "\\end{equation}"
     ]
    },
    {
     "cell_type": "code",
     "collapsed": false,
     "input": [
      "def work_spring(spr_cnst, dx): return 0.5 * spr_cnst * dx * dx\n",
      "\n",
      "print \"Work done by spring = %0.2f J\" % work_spring(k,0-(-0.05))"
     ],
     "language": "python",
     "metadata": {},
     "outputs": [
      {
       "output_type": "stream",
       "stream": "stdout",
       "text": [
        "Work done by spring = 0.49 J\n"
       ]
      }
     ],
     "prompt_number": 5
    },
    {
     "cell_type": "markdown",
     "metadata": {},
     "source": [
      "By the Work-Energy Theorem, all of the work done by the spring to bring it from $x_1$ to $x_2$ goes into a change of the kinetic energy of the block.\n",
      "\n",
      "\\begin{equation}\n",
      "W_{spring} = \\frac{1}{2}mv^2\n",
      "\\end{equation}\n",
      "\n",
      "Solving for $v$ gives,\n",
      "\n",
      "\\begin{equation}\n",
      "v = \\pm\\sqrt{\\frac{k}{m}}\\mid\\Delta x\\mid\n",
      "\\end{equation}\n",
      "\n",
      "How do we know whether to choose $+$ or $-$? The position, $x_1$ or $x_2$, is not enough to determine the direction of movement. But we know that if the displacment is positive, the particle is moving in the positive direction, and vice versa. Therefore, $\\Delta x$ gives the sign of $v$ and our equation loses the $\\pm$ if the absolute value sign $\\mid\\cdot\\mid$ is removed as well.\n",
      "\n",
      "\\begin{equation}\n",
      "    v = \\sqrt{\\frac{k}{m}}\\,\\Delta x\n",
      "\\end{equation}"
     ]
    },
    {
     "cell_type": "code",
     "collapsed": false,
     "input": [
      "def find_v(spr_cnst, mass, dx):\n",
      "    return np.sqrt(spr_cnst / mass) * dx\n",
      "\n",
      "print \"The velocity of the box at x0 = %0.2f m/s\\n Q.E.D.\" % find_v(k,4.,0.05)"
     ],
     "language": "python",
     "metadata": {},
     "outputs": [
      {
       "output_type": "stream",
       "stream": "stdout",
       "text": [
        "The velocity of the box at x0 = 0.50 m/s\n",
        " Q.E.D.\n"
       ]
      }
     ],
     "prompt_number": 6
    },
    {
     "cell_type": "heading",
     "level": 3,
     "metadata": {},
     "source": [
      "2. (20 points) Your firm is designing a new roller coaster ride. Each roller coaster car will have a total mass&mdash;including passengers&mdash;of $500\\,kg$ and will travel freely along the winding, frictionless track shown."
     ]
    },
    {
     "cell_type": "markdown",
     "metadata": {},
     "source": [
      "<img src=\"http://www.webassign.net/tipler6/7-55.gif\" />"
     ]
    },
    {
     "cell_type": "heading",
     "level": 5,
     "metadata": {},
     "source": [
      "<ul>\n",
      "    <li>Points $A$, $E$, $F$, and $G$ are on horizontal, straight sections at the same height of $10\\,m$ above the ground</li>\n",
      "    <li>Point $C$ is at a height of $10\\,m$ above the ground on an inclined secton of slope angled at $30^{\\circ}$</li>\n",
      "    <li>Point $B$ is at the crest of a hill, while point $D$ is at ground level at the bottom of a valley. The radius of curvature at both of these points $A$, $E$, and $G$.</li>\n",
      "    <li>Point $F$ is at the middle of a <span style=\"font-weight: bold; font-style: italic;\">banked, horizontal curve</span> with a radius of curvature of $30\\,m$, and at the same height as points $A$, $E$, and $G$.</li>\n",
      "    <li>At point $A$ the speed of the car is $12\\,m/s$.</li>\n",
      "</ul>"
     ]
    },
    {
     "cell_type": "code",
     "collapsed": false,
     "input": [
      "# Initialize all defined quantities\n",
      "m= 500. # kg\n",
      "v0= 12. # m/s\n",
      "hA= hE= hF= hG= 10 # m\n",
      "g= 9.81 # m/s^2\n",
      "rD= 20. # m (radius of curvature at D)\n",
      "rF= 30. # m (radius of curvature at F)"
     ],
     "language": "python",
     "metadata": {
      "slideshow": {
       "slide_type": "slide"
      }
     },
     "outputs": [],
     "prompt_number": 7
    },
    {
     "cell_type": "heading",
     "level": 4,
     "metadata": {},
     "source": [
      "a) Draw FBDs for the roller coaster at points $D$ and $F$. Indicate the direction of acceleration for each FBD, if any. If acceleration is zero at that point then indicate $a = 0\\,m/s^2$."
     ]
    },
    {
     "cell_type": "markdown",
     "metadata": {
      "slideshow": {
       "slide_type": "slide"
      }
     },
     "source": [
      "<img src=\"http://www.apsva.us/cms/lib2/VA01000586/Centricity/domain/3724/intensified/ps-images/Quiz6--FBD.jpeg\" />"
     ]
    },
    {
     "cell_type": "heading",
     "level": 4,
     "metadata": {
      "slideshow": {
       "slide_type": "slide"
      }
     },
     "source": [
      "b) If the car is just barely to make it over the hill at point B, what must be the height of pt. B above the ground? Explain why your answer is reasonable."
     ]
    },
    {
     "cell_type": "markdown",
     "metadata": {
      "slideshow": {
       "slide_type": "slide"
      }
     },
     "source": [
      "For the car to \"just make it over\", the car will have a velocity of $0\\,m/s$, and therefore a kinetic energy of $0\\,J$. Threfore, \n",
      "\n",
      "\\begin{align}\n",
      "PE_{i} + KE_{i} &= PE_{f}\\\\\n",
      "mgh_{A} + \\frac{1}{2}mv_{A}^2 &= mgh_{B}\n",
      "\\end{align}\n",
      "\n",
      "Solving for $h_{B}$ gives:\n",
      "\n",
      "$$h_{B} = h_{A} + \\frac{1}{2}\\frac{v_{A}^2}{g}$$"
     ]
    },
    {
     "cell_type": "code",
     "collapsed": false,
     "input": [
      "def find_hB(velocity, height_A, acc_g= 9.81):\n",
      "    \"Find height at point B\"\n",
      "    return height_A + 0.5 * velocity**2 / acc_g\n",
      "\n",
      "hB= find_hB(v0,hA)\n",
      "\n",
      "print \"hB = %0.2f m\" % hB"
     ],
     "language": "python",
     "metadata": {
      "slideshow": {
       "slide_type": "slide"
      }
     },
     "outputs": [
      {
       "output_type": "stream",
       "stream": "stdout",
       "text": [
        "hB = 17.34 m\n"
       ]
      }
     ],
     "prompt_number": 8
    },
    {
     "cell_type": "heading",
     "level": 4,
     "metadata": {
      "slideshow": {
       "slide_type": "slide"
      }
     },
     "source": [
      "c) If the car is to just barely make it over the hill at point B, what should be the magnitude of the force exerted by the track on the car at that point? Explain why your answer is reasonable."
     ]
    },
    {
     "cell_type": "markdown",
     "metadata": {
      "slideshow": {
       "slide_type": "slide"
      }
     },
     "source": [
      "As $h \\rightarrow 17.34\\,m$, $v \\rightarrow 0\\,m/s$, therefore,\n",
      "\n",
      "$$\\Sigma F = F_{N} - F_{g} = \\frac{mv^2}{r} = 0\\,N$$\n",
      "\n",
      "so\n",
      "\n",
      "$$F_{N} = F_{g}$$\n",
      "\n",
      "The force from the track (the normal force) is equal to the force of gravity (the weight)."
     ]
    },
    {
     "cell_type": "code",
     "collapsed": false,
     "input": [
      "FN = m * g\n",
      "print \"FN = %0.0f N\" % FN"
     ],
     "language": "python",
     "metadata": {
      "slideshow": {
       "slide_type": "slide"
      }
     },
     "outputs": [
      {
       "output_type": "stream",
       "stream": "stdout",
       "text": [
        "FN = 4905 N\n"
       ]
      }
     ],
     "prompt_number": 9
    },
    {
     "cell_type": "heading",
     "level": 4,
     "metadata": {
      "slideshow": {
       "slide_type": "slide"
      }
     },
     "source": [
      "d) What will be the acceleration of the car at point C? Explain why your answer is reasonable."
     ]
    },
    {
     "cell_type": "markdown",
     "metadata": {
      "slideshow": {
       "slide_type": "slide"
      }
     },
     "source": [
      "From the FBD,  \n",
      "\n",
      "$\\Sigma F_{x} = mg\\sin\\theta = ma_{x}$\n",
      "\n",
      "$\\Sigma F_{y} = N - mg\\cos\\theta = 0\\,N$\n",
      "\n",
      "$a = \\sqrt{a_{x}^2 + a_{y}^2} = a_{x}$ Since $a_{y} = 0\\,m/s^2$\n",
      "\n",
      "and\n",
      "\n",
      "$a = g\\sin\\theta$"
     ]
    },
    {
     "cell_type": "code",
     "collapsed": false,
     "input": [
      "a = g * np.sin(np.deg2rad(30.))\n",
      "\n",
      "print \"a = %0.2f m/s^2\" % a"
     ],
     "language": "python",
     "metadata": {
      "slideshow": {
       "slide_type": "slide"
      }
     },
     "outputs": [
      {
       "output_type": "stream",
       "stream": "stdout",
       "text": [
        "a = 4.90 m/s^2\n"
       ]
      }
     ],
     "prompt_number": 10
    },
    {
     "cell_type": "heading",
     "level": 4,
     "metadata": {
      "slideshow": {
       "slide_type": "slide"
      }
     },
     "source": [
      "e) What will be the magnitude and direction of the force exerted by the track on the car at point D? Explain why your answer is reasonable."
     ]
    },
    {
     "cell_type": "markdown",
     "metadata": {
      "slideshow": {
       "slide_type": "slide"
      }
     },
     "source": [
      "$$\\Sigma F = F_{N} - mg = \\frac{mv^2}{r}$$\n",
      "\n",
      "Solving for $F_{N}$,\n",
      "\n",
      "$$F_{N} = mg + \\frac{mv^2}{r}$$\n",
      "\n",
      "To find the velocity at the bottom, \n",
      "\n",
      "$$mgh_{A} + \\frac{1}{2}mv_{A}^2 = mgh_{D} + \\frac{1}{2}mv_{D}^2$$\n",
      "\n",
      "Since $h_{D} = 0\\,m$, \n",
      "\n",
      "$$v_{D} = \\sqrt{2gh_{A} + v_{A}^2}$$"
     ]
    },
    {
     "cell_type": "code",
     "collapsed": false,
     "input": [
      "def find_vD(heightA,velocityA,g=9.81):\n",
      "    \"Find velocity at point D\"\n",
      "    return np.sqrt(2. * g * heightA + velocityA**2)\n",
      "\n",
      "def F_ND(mass,velocity,radius,acc_g=9.81):\n",
      "    \"Find the normal force (of the track) at point D\"\n",
      "    return m*g + m * velocity**2 / radius\n",
      "\n",
      "\n",
      "print \"vD = %0.2f m/s\" % find_vD(hA,v0)\n",
      "print \"F_ND = %0.0f N\" % F_ND(m,find_vD(hA,v0),rD,g)"
     ],
     "language": "python",
     "metadata": {
      "slideshow": {
       "slide_type": "slide"
      }
     },
     "outputs": [
      {
       "output_type": "stream",
       "stream": "stdout",
       "text": [
        "vD = 18.44 m/s\n",
        "F_ND = 13410 N\n"
       ]
      }
     ],
     "prompt_number": 11
    },
    {
     "cell_type": "heading",
     "level": 4,
     "metadata": {
      "slideshow": {
       "slide_type": "slide"
      }
     },
     "source": [
      "f) What will be the magintude of the force exerted by the track on the car at point F? Explain why your answer is reasonable."
     ]
    },
    {
     "cell_type": "markdown",
     "metadata": {
      "slideshow": {
       "slide_type": "slide"
      }
     },
     "source": [
      "\\begin{align}\n",
      "\\Sigma F_{y} &= F_{N}\\cos\\theta - mg = 0\\\\\n",
      "\\Sigma F_{x} &= F_{N}\\sin\\theta = \\frac{mv^2}{r}\n",
      "\\end{align}\n",
      "Given that point F is at the same height of point A, $v_{A} = v_{F} = 12\\,m/s$ by the conservation of mechanical energy.\n",
      "\n",
      "Solving for $F_{N}$ from $\\Sigma F_{y}$,\n",
      "\n",
      "$$F_{N} = \\frac{mg}{\\cos\\theta}$$\n",
      "\n",
      "Putting this equation into $\\Sigma F_{x}$ gives,\n",
      "\n",
      "$$g\\tan\\theta = \\frac{v^2}{r}$$\n",
      "\n",
      "or\n",
      "\n",
      "$$\\theta = \\tan^{-1}\\left(\\frac{v^2}{rg}\\right)$$\n",
      "\n",
      "This gives the angle of that the track pushes on the roller coaster. To find the magnitude, use the equation,\n",
      "\n",
      "$$F_{N} = \\frac{mg}{\\cos\\theta}$$"
     ]
    },
    {
     "cell_type": "code",
     "collapsed": false,
     "input": [
      "def find_theta(velocity, radius, acc_g):\n",
      "    return np.rad2deg(np.arctan(velocity**2  / (radius * acc_g)))\n",
      "\n",
      "def find_magnitude(mass,acc_g,th):\n",
      "    return mass * acc_g / np.cos(np.deg2rad(th))\n",
      "\n",
      "print \"theta = %0.2f degrees, FN = %0.2f N\" % (find_theta(v0,rF,g), find_magnitude(m,g,find_theta(v0,rF,g)))"
     ],
     "language": "python",
     "metadata": {},
     "outputs": [
      {
       "output_type": "stream",
       "stream": "stdout",
       "text": [
        "theta = 26.07 degrees, FN = 5460.68 N\n"
       ]
      }
     ],
     "prompt_number": 12
    },
    {
     "cell_type": "heading",
     "level": 4,
     "metadata": {},
     "source": [
      "g) At pt G a constant braking force is to be applied to the car, bringing it to a halt in a distance of 25 m. What is the magnitude of this required braking force?"
     ]
    },
    {
     "cell_type": "markdown",
     "metadata": {},
     "source": [
      "By the <a href=\"http://faculty.wwu.edu/vawter/PhysicsNet/Topics/Work/WorkEngergyTheorem.html\">Work-Kinetic Energy Theorem</a>,\n",
      "\n",
      "$$W = \\Delta KE$$\n",
      "\n",
      "In our case, the roller coaster is at a height of 10 meters so it's velocity is equal to $v_{A} = 12\\, m/s$, the velocity at the beginning of the track. When it is completely stopped it's velocity is $0\\,m/s$. Therefore, \n",
      "\n",
      "\\begin{align}\n",
      "F_{brakes}\\times \\Delta x &= KE_{f} - KE_{i}\\\\\n",
      " &= 0 - \\frac{1}{2}mv^2\n",
      "\\end{align}\n",
      "\n",
      "Solving for $F_{brakes}$ gives,\n",
      "\n",
      "$$F_{brakes} = -\\frac{mv^2}{2\\Delta x}$$"
     ]
    },
    {
     "cell_type": "code",
     "collapsed": false,
     "input": [
      "def find_Fbrakes(mass,velocity,displacement):\n",
      "    \"Find the force provided by brakes to bring rollercoaster car to a stop\"\n",
      "    return -0.5 * mass * velocity**2 / displacement\n",
      "\n",
      "print \"Fbrakes = %0.0f N\" % find_Fbrakes(m,v0,25)"
     ],
     "language": "python",
     "metadata": {},
     "outputs": [
      {
       "output_type": "stream",
       "stream": "stdout",
       "text": [
        "Fbrakes = -1440 N\n"
       ]
      }
     ],
     "prompt_number": 13
    },
    {
     "cell_type": "code",
     "collapsed": false,
     "input": [],
     "language": "python",
     "metadata": {},
     "outputs": [],
     "prompt_number": 13
    }
   ],
   "metadata": {}
  }
 ]
}