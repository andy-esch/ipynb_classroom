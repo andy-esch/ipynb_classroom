{
 "metadata": {
  "name": "",
  "signature": "sha256:68ed90a94af748abc1802704ccf8d0247ddedf6edddddd43ffb90c2619e18e66"
 },
 "nbformat": 3,
 "nbformat_minor": 0,
 "worksheets": [
  {
   "cells": [
    {
     "cell_type": "code",
     "collapsed": false,
     "input": [
      "import numpy as np\n",
      "#import pandas as pd"
     ],
     "language": "python",
     "metadata": {
      "slideshow": {
       "slide_type": "skip"
      }
     },
     "outputs": [],
     "prompt_number": 1
    },
    {
     "cell_type": "markdown",
     "metadata": {},
     "source": [
      "1. A 4.0 kg block on a frictionless table is attached to a horizontal spring.\n",
      "\n",
      "a) The spring constant is slowly compressed and the following data colleted. Graph this data and determine the spring constan $k$ using the graph provided. Be sure to title your graph and correctly label each axis."
     ]
    },
    {
     "cell_type": "code",
     "collapsed": false,
     "input": [
      "#problem1_data = pd.DataFrame({'x-axis':[1.00,1.95,3.01,4.02,5.01], 'y-axis':[4.04,7.96,12.01,16.02,19.97]})\n",
      "#problem1_data"
     ],
     "language": "python",
     "metadata": {},
     "outputs": [],
     "prompt_number": 2
    },
    {
     "cell_type": "code",
     "collapsed": false,
     "input": [
      "# Initialize all defined quantities\n",
      "m= 500. # kg\n",
      "v0= 12. # m/s\n",
      "hA= hE= hF= hG= 10 # m\n",
      "g= 9.81 # m/s^2\n",
      "r= 30. # m (radius of curvature)"
     ],
     "language": "python",
     "metadata": {
      "slideshow": {
       "slide_type": "slide"
      }
     },
     "outputs": [],
     "prompt_number": 3
    },
    {
     "cell_type": "heading",
     "level": 4,
     "metadata": {
      "slideshow": {
       "slide_type": "slide"
      }
     },
     "source": [
      "a) Draw FBDs for the rollercoaster at points D and F. Indicate the direction of acceleration for each FBD, if any. If there is no acceleration at that point then indicate $\\textbf{a} = \\vec{0}\\,N$"
     ]
    },
    {
     "cell_type": "markdown",
     "metadata": {
      "slideshow": {
       "slide_type": "slide"
      }
     },
     "source": [
      "<img src=\"http://www.apsva.us/cms/lib2/VA01000586/Centricity/domain/3724/intensified/ps-images/Quiz6--FBD.jpeg\" />"
     ]
    },
    {
     "cell_type": "heading",
     "level": 4,
     "metadata": {
      "slideshow": {
       "slide_type": "slide"
      }
     },
     "source": [
      "b) If the car is just barely to make it over the hill at point B, what must be the height of pt. B above the ground? Explain why your answer is reasonable."
     ]
    },
    {
     "cell_type": "markdown",
     "metadata": {
      "slideshow": {
       "slide_type": "slide"
      }
     },
     "source": [
      "For the car to \"just make it over\", the car will have a velocity of $0\\,m/s$, and therefore a kinetic energy of $0\\,J$. Threfore, \n",
      "\n",
      "$$PE_{i} + KE_{i} = PE_{f}$$\n",
      "\n",
      "$$mgh_{A} + \\frac{1}{2}mv_{A}^2 = mgh_{B}$$\n",
      "\n",
      "Solving for $h_{B}$ gives:\n",
      "\n",
      "$$h_{B} = h_{A} + \\frac{1}{2}\\frac{v_{A}^2}{g}$$"
     ]
    },
    {
     "cell_type": "code",
     "collapsed": false,
     "input": [
      "def find_hB(velocity, height_A, acc_g= 9.81):\n",
      "    \"Find height at point B\"\n",
      "    return height_A + 0.5 * velocity**2 / acc_g\n",
      "\n",
      "hB= find_hB(v0,hA)\n",
      "\n",
      "print \"hB = %0.2f m\" % hB"
     ],
     "language": "python",
     "metadata": {
      "slideshow": {
       "slide_type": "slide"
      }
     },
     "outputs": [
      {
       "output_type": "stream",
       "stream": "stdout",
       "text": [
        "hB = 17.34 m\n"
       ]
      }
     ],
     "prompt_number": 5
    },
    {
     "cell_type": "heading",
     "level": 4,
     "metadata": {
      "slideshow": {
       "slide_type": "slide"
      }
     },
     "source": [
      "c) If the car is to just barely make it over the hill at point B, what should be the magnitude of the force exerted by the track on the car at that point? Explain why your answer is reasonable."
     ]
    },
    {
     "cell_type": "markdown",
     "metadata": {
      "slideshow": {
       "slide_type": "slide"
      }
     },
     "source": [
      "As $h \\rightarrow 17.34\\,m$, $v \\rightarrow 0\\,m/s$, therefore,\n",
      "\n",
      "$$\\Sigma F = F_{N} - F_{g} = \\frac{mv^2}{r} = 0\\,N$$\n",
      "\n",
      "so\n",
      "\n",
      "$$F_{N} = F_{g}$$\n",
      "\n",
      "The force from the track (the normal force) is equal to the force of gravity (the weight)."
     ]
    },
    {
     "cell_type": "code",
     "collapsed": false,
     "input": [
      "FN = m * g\n",
      "print \"FN = %0.0f N\" % FN"
     ],
     "language": "python",
     "metadata": {
      "slideshow": {
       "slide_type": "slide"
      }
     },
     "outputs": [
      {
       "output_type": "stream",
       "stream": "stdout",
       "text": [
        "FN = 4905 N\n"
       ]
      }
     ],
     "prompt_number": 5
    },
    {
     "cell_type": "heading",
     "level": 4,
     "metadata": {
      "slideshow": {
       "slide_type": "slide"
      }
     },
     "source": [
      "d) What will be the acceleration of the car at point C? Explain why your answer is reasonable."
     ]
    },
    {
     "cell_type": "markdown",
     "metadata": {
      "slideshow": {
       "slide_type": "slide"
      }
     },
     "source": [
      "From the FBD,  \n",
      "\n",
      "$\\Sigma F_{x} = mg\\sin\\theta = ma_{x}$\n",
      "\n",
      "$\\Sigma F_{y} = N - mg\\cos\\theta = 0\\,N$\n",
      "\n",
      "$a = \\sqrt{a_{x}^2 + a_{y}^2} = a_{x}$ Since $a_{y} = 0\\,m/s^2$\n",
      "\n",
      "and\n",
      "\n",
      "$a = g\\sin\\theta$"
     ]
    },
    {
     "cell_type": "code",
     "collapsed": false,
     "input": [
      "a = g * np.sin(np.deg2rad(30.))\n",
      "\n",
      "print \"a = %0.2f m/s^2\" % a"
     ],
     "language": "python",
     "metadata": {
      "slideshow": {
       "slide_type": "slide"
      }
     },
     "outputs": [
      {
       "output_type": "stream",
       "stream": "stdout",
       "text": [
        "a = 4.90 m/s^2\n"
       ]
      }
     ],
     "prompt_number": 6
    },
    {
     "cell_type": "heading",
     "level": 4,
     "metadata": {
      "slideshow": {
       "slide_type": "slide"
      }
     },
     "source": [
      "e) What will be the magnitude and direction of the force exerted by the track on the car at point D? Explain why your answer is reasonable."
     ]
    },
    {
     "cell_type": "markdown",
     "metadata": {
      "slideshow": {
       "slide_type": "slide"
      }
     },
     "source": [
      "$$\\Sigma F = F_{N} - mg = \\frac{mv^2}{r}$$\n",
      "\n",
      "Solving for $F_{N}$,\n",
      "\n",
      "$$F_{N} = mg + \\frac{mv^2}{r}$$\n",
      "\n",
      "To find the velocity at the bottom, \n",
      "\n",
      "$$mgh_{A} + \\frac{1}{2}mv_{A}^2 = mgh_{D} + \\frac{1}{2}mv_{D}^2$$\n",
      "\n",
      "Since $h_{D} = 0\\,m$, \n",
      "\n",
      "$$v_{D} = \\sqrt{2gh_{A} + v_{A}^2}$$"
     ]
    },
    {
     "cell_type": "code",
     "collapsed": false,
     "input": [
      "def find_vD(heightA,velocityA,g=9.81):\n",
      "    \"Find velocity at point D\"\n",
      "    return np.sqrt(2. * g * heightA + velocityA**2)\n",
      "\n",
      "def F_ND(mass,velocity,radius,acc_g=9.81):\n",
      "    \"Find the normal force (of the track) at point D\"\n",
      "    return m*g + m * velocity**2 / radius\n",
      "\n",
      "\n",
      "print \"vD = %0.2f m/s\" % find_vD(hA,v0)\n",
      "print \"F_ND = %0.0f N\" % F_ND(m,find_vD(hA,v0),r,g)"
     ],
     "language": "python",
     "metadata": {
      "slideshow": {
       "slide_type": "slide"
      }
     },
     "outputs": [
      {
       "output_type": "stream",
       "stream": "stdout",
       "text": [
        "vD = 18.44 m/s\n",
        "F_ND = 10575 N\n"
       ]
      }
     ],
     "prompt_number": 8
    },
    {
     "cell_type": "heading",
     "level": 4,
     "metadata": {
      "slideshow": {
       "slide_type": "slide"
      }
     },
     "source": [
      "f) What will be the magintude of the force exerted by the track on the car at point F? Explain why your answer is reasonable."
     ]
    },
    {
     "cell_type": "markdown",
     "metadata": {
      "slideshow": {
       "slide_type": "slide"
      }
     },
     "source": [
      "$$\\Sigma F_{y} = F_{N}\\cos\\theta - mg = 0$$\n",
      "\n",
      "$$\\Sigma F_{x} = F_{N}\\sin\\theta = \\frac{mv^2}{r}$$\n",
      "\n",
      "Given that point F is at the same height of point A, $v_{A} = v_{F} = 12\\,m/s$ by the conservation of mechanical energy.\n",
      "\n",
      "Solving for $F_{N}$ from $\\Sigma F_{y}$,\n",
      "\n",
      "$$F_{N} = \\frac{mg}{\\cos\\theta}$$\n",
      "\n",
      "Putting this equation into $\\Sigma F_{x}$ gives,\n",
      "\n",
      "$$g\\tan\\theta = \\frac{v^2}{r}$$\n",
      "\n",
      "or\n",
      "\n",
      "$$\\theta = \\tan^{-1}\\left(\\frac{v^2}{rg}\\right)$$\n",
      "\n",
      "This gives the angle of that the track pushes on the roller coaster. To find the magnitude, use the equation,\n",
      "\n",
      "$$F_{N} = \\frac{mg}{\\cos\\theta}$$"
     ]
    },
    {
     "cell_type": "code",
     "collapsed": false,
     "input": [
      "def find_theta(velocity, radius, acc_g):\n",
      "    return np.rad2deg(np.arctan(velocity**2  / (radius * acc_g)))\n",
      "\n",
      "def find_magnitude(mass,acc_g,th):\n",
      "    return mass * acc_g / np.cos(np.deg2rad(th))\n",
      "\n",
      "print \"theta = %0.2f degrees, FN = %0.2f N\" % (find_theta(v0,r,g), find_magnitude(m,g,find_theta(v0,r,g)))"
     ],
     "language": "python",
     "metadata": {
      "slideshow": {
       "slide_type": "slide"
      }
     },
     "outputs": [
      {
       "output_type": "stream",
       "stream": "stdout",
       "text": [
        "theta = 26.07 degrees, FN = 5460.68 N\n"
       ]
      }
     ],
     "prompt_number": 12
    },
    {
     "cell_type": "heading",
     "level": 4,
     "metadata": {},
     "source": [
      "g) At pt G a constant braking force is to be applied to the car, bringing it to a halt in a distance of 25 m. What is the magnitude of this required braking force?"
     ]
    },
    {
     "cell_type": "markdown",
     "metadata": {},
     "source": [
      "By the <a href=\"http://faculty.wwu.edu/vawter/PhysicsNet/Topics/Work/WorkEngergyTheorem.html\">Work-Kinetic Energy Theorem</a>,\n",
      "\n",
      "$$W = \\Delta KE$$\n",
      "\n",
      "In our case, the roller coaster is at a height of 10 meters so it's velocity is equal to $v_{A} = 12\\, m/s$, the velocity at the beginning of the track. When it is completely stopped it's velocity is $0\\,m/s$. Therefore, \n",
      "\n",
      "$$F_{brakes}\\times \\Delta x = KE_{f} - KE_{i}$$\n",
      "$$ = 0 - \\frac{1}{2}mv^2$$\n",
      "\n",
      "Solving for $F_{brakes}$ gives,\n",
      "\n",
      "$$F_{brakes} = -\\frac{mv^2}{2\\Delta x}$$"
     ]
    },
    {
     "cell_type": "code",
     "collapsed": false,
     "input": [
      "def find_Fbrakes(mass,velocity,displacement):\n",
      "    \"Find the force provided by brakes to bring rollercoaster car to a stop\"\n",
      "    return -0.5 * mass * velocity**2 / displacement\n",
      "\n",
      "print \"Fbrakes = %0.0f N\" % find_Fbrakes(m,v0,25)"
     ],
     "language": "python",
     "metadata": {},
     "outputs": [
      {
       "output_type": "stream",
       "stream": "stdout",
       "text": [
        "Fbrakes = -1440 N\n"
       ]
      }
     ],
     "prompt_number": 12
    },
    {
     "cell_type": "code",
     "collapsed": false,
     "input": [],
     "language": "python",
     "metadata": {},
     "outputs": []
    }
   ],
   "metadata": {}
  }
 ]
}