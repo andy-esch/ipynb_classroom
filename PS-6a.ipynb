{
 "metadata": {
  "name": "",
  "signature": "sha256:35522fa5ded1e90a538298c2adbf8de48bc3cb618db6ba66d4759a09b59a353b"
 },
 "nbformat": 3,
 "nbformat_minor": 0,
 "worksheets": [
  {
   "cells": [
    {
     "cell_type": "markdown",
     "metadata": {},
     "source": [
      "A 300 kg piano slides 4.1 m down a 30\u00b0 incline and is kept from accelerating by a man who is pushing back on it parallel to the incline (Fig. 6-35). The effective coefficient of kinetic friction is 0.40."
     ]
    },
    {
     "cell_type": "code",
     "collapsed": false,
     "input": [
      "%pylab inline\n",
      "from IPython.display import Image\n",
      "Image(url='http://www.webassign.net/giancoli5/6_35.gif')"
     ],
     "language": "python",
     "metadata": {},
     "outputs": [
      {
       "output_type": "stream",
       "stream": "stdout",
       "text": [
        "Populating the interactive namespace from numpy and matplotlib\n"
       ]
      },
      {
       "html": [
        "<img src=\"http://www.webassign.net/giancoli5/6_35.gif\"/>"
       ],
       "metadata": {},
       "output_type": "pyout",
       "prompt_number": 8,
       "text": [
        "<IPython.core.display.Image at 0x102f59f10>"
       ]
      }
     ],
     "prompt_number": 8
    },
    {
     "cell_type": "code",
     "collapsed": false,
     "input": [
      "# Declare quantities from the problem\n",
      "m = 300 # kg\n",
      "dist = 4.1 # m\n",
      "mu = 0.4 #\n",
      "th = np.deg2rad(30) # 30 degrees in radians\n",
      "g = 9.81 # m/s^2\n",
      "\n",
      "def work(f,d,ang=0.0):\n",
      "    \"\"\"\n",
      "    Calculate amount of work (energy transfered to/from an object)\n",
      "    f = magnitude of force,\n",
      "    d = magnitudedistance\n",
      "    ang = angle in radians\n",
      "    \"\"\"\n",
      "    return f * d * np.cos(ang)\n",
      "\n"
     ],
     "language": "python",
     "metadata": {},
     "outputs": [],
     "prompt_number": 9
    },
    {
     "cell_type": "heading",
     "level": 4,
     "metadata": {},
     "source": [
      "A) Calculate the magnitude of force exerted by the man."
     ]
    },
    {
     "cell_type": "markdown",
     "metadata": {},
     "source": [
      "$\\Sigma F_x = F_{man} + \\mu N - mg\\sin\\theta = 0$  \n",
      "\n",
      "$\\Sigma F_y = N - mg\\cos\\theta = 0$  \n",
      "\n",
      "Therefore, $N = mg\\sin\\theta$, and"
     ]
    },
    {
     "cell_type": "code",
     "collapsed": false,
     "input": [
      "from IPython.display import Latex\n",
      "Latex(r\"\"\"\\begin{eqnarray}\n",
      "F_{man} &= -\\mu mg \\cos\\theta + mg\\sin\\theta \\\\\n",
      " &= mg\\left(-\\mu\\cos\\theta + \\sin\\theta\\right)\n",
      "\\end{eqnarray}\"\"\")"
     ],
     "language": "python",
     "metadata": {},
     "outputs": [
      {
       "latex": [
        "\\begin{eqnarray}\n",
        "F_{man} &= -\\mu mg \\cos\\theta + mg\\sin\\theta \\\\\n",
        " &= mg\\left(-\\mu\\cos\\theta + \\sin\\theta\\right)\n",
        "\\end{eqnarray}"
       ],
       "metadata": {},
       "output_type": "pyout",
       "prompt_number": 23,
       "text": [
        "<IPython.core.display.Latex at 0x102f60110>"
       ]
      }
     ],
     "prompt_number": 23
    },
    {
     "cell_type": "code",
     "collapsed": false,
     "input": [
      "Fman = m*g * (-mu * np.cos(th) + np.sin(th))\n",
      "print \"Fman = %0.2f N\" % Fman"
     ],
     "language": "python",
     "metadata": {},
     "outputs": [
      {
       "output_type": "stream",
       "stream": "stdout",
       "text": [
        "Fman = 452.01 N\n"
       ]
      }
     ],
     "prompt_number": 31
    },
    {
     "cell_type": "heading",
     "level": 4,
     "metadata": {},
     "source": [
      "B) Calculate the work done by the man on the piano."
     ]
    },
    {
     "cell_type": "code",
     "collapsed": false,
     "input": [
      "Wman = work(Fman,dist,np.pi)\n",
      "print \"Work done by the man on the piano = %0.2f J\" % Wman"
     ],
     "language": "python",
     "metadata": {},
     "outputs": [
      {
       "output_type": "stream",
       "stream": "stdout",
       "text": [
        "Work done by the man on the piano = -1853.26 J\n"
       ]
      }
     ],
     "prompt_number": 50
    },
    {
     "cell_type": "heading",
     "level": 4,
     "metadata": {},
     "source": [
      "C) Calculate the work done by friction on the piano."
     ]
    },
    {
     "cell_type": "code",
     "collapsed": false,
     "input": [
      "Wfrict = work(mu*m*g*np.cos(th),dist,pi)\n",
      "print \"Work done by friction on the piano = %0.2f J\" % Wfrict"
     ],
     "language": "python",
     "metadata": {},
     "outputs": [
      {
       "output_type": "stream",
       "stream": "stdout",
       "text": [
        "Work done by friction on the piano = -4179.89 J\n"
       ]
      }
     ],
     "prompt_number": 51
    },
    {
     "cell_type": "heading",
     "level": 4,
     "metadata": {},
     "source": [
      "D) Calculate the work done by gravity on the piano."
     ]
    },
    {
     "cell_type": "code",
     "collapsed": false,
     "input": [
      "Wgrav = work(m*g,dist,np.pi/2. - th)\n",
      "print \"Work done by gravity on the piano = %0.2f J\" % Wgrav"
     ],
     "language": "python",
     "metadata": {},
     "outputs": [
      {
       "output_type": "stream",
       "stream": "stdout",
       "text": [
        "Work done by gravity on the piano = 6033.15 J\n"
       ]
      }
     ],
     "prompt_number": 52
    },
    {
     "cell_type": "heading",
     "level": 4,
     "metadata": {},
     "source": [
      "E) Calculate the net work done on the piano."
     ]
    },
    {
     "cell_type": "code",
     "collapsed": false,
     "input": [
      "Wnet = Wgrav + Wfrict + Wman\n",
      "print \"Net work done on piano = %0.2f J\" % Wnet"
     ],
     "language": "python",
     "metadata": {},
     "outputs": [
      {
       "output_type": "stream",
       "stream": "stdout",
       "text": [
        "Net work done on piano = -0.00 J\n"
       ]
      }
     ],
     "prompt_number": 49
    },
    {
     "cell_type": "code",
     "collapsed": false,
     "input": [],
     "language": "python",
     "metadata": {},
     "outputs": []
    }
   ],
   "metadata": {}
  }
 ]
}