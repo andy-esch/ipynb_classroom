{
 "metadata": {
  "name": "",
  "signature": "sha256:0f099f9794025314ef812624dd955c0c9e6e95633e4904777f4f18293ba8cfda"
 },
 "nbformat": 3,
 "nbformat_minor": 0,
 "worksheets": [
  {
   "cells": [
    {
     "cell_type": "markdown",
     "metadata": {},
     "source": [
      "<h3>Question #1</h3>\n",
      "\n",
      "A 300 kg piano slides 4.1 m down a 30\u00b0 incline and is kept from accelerating by a man who is pushing back on it parallel to the incline (Fig. 6-35). The effective coefficient of kinetic friction is 0.40."
     ]
    },
    {
     "cell_type": "code",
     "collapsed": false,
     "input": [
      "%pylab inline\n",
      "from IPython.display import Image\n",
      "Image(url='http://www.webassign.net/giancoli5/6_35.gif')"
     ],
     "language": "python",
     "metadata": {},
     "outputs": [
      {
       "output_type": "stream",
       "stream": "stdout",
       "text": [
        "Populating the interactive namespace from numpy and matplotlib\n"
       ]
      },
      {
       "html": [
        "<img src=\"http://www.webassign.net/giancoli5/6_35.gif\"/>"
       ],
       "metadata": {},
       "output_type": "pyout",
       "prompt_number": 2,
       "text": [
        "<IPython.core.display.Image at 0x102e34c50>"
       ]
      }
     ],
     "prompt_number": 2
    },
    {
     "cell_type": "code",
     "collapsed": false,
     "input": [
      "# Declare quantities from the problem\n",
      "m = 300 # kg -- mass\n",
      "dx = 4.1 # m -- distance\n",
      "mu = 0.4 # coefficient of kinetic friction\n",
      "th = np.deg2rad(30.) # 30 degrees in radians\n",
      "g = 9.81 # m/s^2 -- acceleration of gravity on the surface of the earth\n",
      "\n",
      "def work(f,d,ang=0.0):\n",
      "    \"\"\"Calculate the amount of work (energy transfered to/from an object)\n",
      "    f = magnitude of force,\n",
      "    d = magnitudedistance\n",
      "    ang = angle in radians\n",
      "    \"\"\"\n",
      "    return f * d * np.cos(ang)\n"
     ],
     "language": "python",
     "metadata": {},
     "outputs": [],
     "prompt_number": 3
    },
    {
     "cell_type": "heading",
     "level": 4,
     "metadata": {},
     "source": [
      "A) Calculate the magnitude of force exerted by the man."
     ]
    },
    {
     "cell_type": "markdown",
     "metadata": {},
     "source": [
      "$\\Sigma F_x = F_{man} + \\mu N - mg\\sin\\theta = 0$  \n",
      "\n",
      "$\\Sigma F_y = N - mg\\cos\\theta = 0$  \n",
      "\n",
      "Therefore, $N = mg\\sin\\theta$, and"
     ]
    },
    {
     "cell_type": "code",
     "collapsed": true,
     "input": [
      "from IPython.display import Latex\n",
      "Latex(r\"\"\"\\begin{eqnarray}\n",
      "F_{man} &= -\\mu mg \\cos\\theta + mg\\sin\\theta \\\\\n",
      " &= mg\\left(-\\mu\\cos\\theta + \\sin\\theta\\right)\n",
      "\\end{eqnarray}\"\"\")"
     ],
     "language": "python",
     "metadata": {},
     "outputs": [
      {
       "latex": [
        "\\begin{eqnarray}\n",
        "F_{man} &= -\\mu mg \\cos\\theta + mg\\sin\\theta \\\\\n",
        " &= mg\\left(-\\mu\\cos\\theta + \\sin\\theta\\right)\n",
        "\\end{eqnarray}"
       ],
       "metadata": {},
       "output_type": "pyout",
       "prompt_number": 4,
       "text": [
        "<IPython.core.display.Latex at 0x102034b90>"
       ]
      }
     ],
     "prompt_number": 4
    },
    {
     "cell_type": "code",
     "collapsed": false,
     "input": [
      "Fman = m*g * (-mu * np.cos(th) + np.sin(th))\n",
      "print \"Fman = %0.2f N\" % Fman"
     ],
     "language": "python",
     "metadata": {},
     "outputs": [
      {
       "output_type": "stream",
       "stream": "stdout",
       "text": [
        "Fman = 452.01 N\n"
       ]
      }
     ],
     "prompt_number": 5
    },
    {
     "cell_type": "heading",
     "level": 4,
     "metadata": {},
     "source": [
      "B) Calculate the work done by the man on the piano."
     ]
    },
    {
     "cell_type": "code",
     "collapsed": false,
     "input": [
      "Wman = work(Fman,dx,np.pi)\n",
      "print \"Work done by the man on the piano = %0.2f J\" % Wman"
     ],
     "language": "python",
     "metadata": {},
     "outputs": [
      {
       "output_type": "stream",
       "stream": "stdout",
       "text": [
        "Work done by the man on the piano = -1853.26 J\n"
       ]
      }
     ],
     "prompt_number": 6
    },
    {
     "cell_type": "heading",
     "level": 4,
     "metadata": {},
     "source": [
      "C) Calculate the work done by friction on the piano."
     ]
    },
    {
     "cell_type": "code",
     "collapsed": false,
     "input": [
      "Wfrict = work(mu*m*g*np.cos(th),dx,np.pi)\n",
      "print \"Work done by friction on the piano = %0.2f J\" % Wfrict"
     ],
     "language": "python",
     "metadata": {},
     "outputs": [
      {
       "output_type": "stream",
       "stream": "stdout",
       "text": [
        "Work done by friction on the piano = -4179.89 J\n"
       ]
      }
     ],
     "prompt_number": 7
    },
    {
     "cell_type": "heading",
     "level": 4,
     "metadata": {},
     "source": [
      "D) Calculate the work done by gravity on the piano."
     ]
    },
    {
     "cell_type": "code",
     "collapsed": false,
     "input": [
      "Wgrav = work(m*g,dx,np.pi/2. - th) # Fg and d are at a 60 degrees w/r/t oneanother\n",
      "print \"Work done by gravity on the piano = %0.2f J\" % Wgrav"
     ],
     "language": "python",
     "metadata": {},
     "outputs": [
      {
       "output_type": "stream",
       "stream": "stdout",
       "text": [
        "Work done by gravity on the piano = 6033.15 J\n"
       ]
      }
     ],
     "prompt_number": 8
    },
    {
     "cell_type": "heading",
     "level": 4,
     "metadata": {},
     "source": [
      "E) Calculate the net work done on the piano."
     ]
    },
    {
     "cell_type": "code",
     "collapsed": false,
     "input": [
      "Wnet = Wgrav + Wfrict + Wman\n",
      "print \"Net work done on piano = %0.3f J\" % Wnet"
     ],
     "language": "python",
     "metadata": {},
     "outputs": [
      {
       "output_type": "stream",
       "stream": "stdout",
       "text": [
        "Net work done on piano = -0.000 J\n"
       ]
      }
     ],
     "prompt_number": 9
    },
    {
     "cell_type": "code",
     "collapsed": false,
     "input": [],
     "language": "python",
     "metadata": {},
     "outputs": [],
     "prompt_number": 9
    }
   ],
   "metadata": {}
  }
 ]
}