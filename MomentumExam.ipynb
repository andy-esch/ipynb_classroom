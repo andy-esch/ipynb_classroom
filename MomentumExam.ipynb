{
 "metadata": {
  "name": "",
  "signature": "sha256:e5f2991dba40045b2c836d2937c9dc3cf8f2359d87475576a330b3b9a26b1db6"
 },
 "nbformat": 3,
 "nbformat_minor": 0,
 "worksheets": [
  {
   "cells": [
    {
     "cell_type": "code",
     "collapsed": false,
     "input": [
      "# Pull in used modules\n",
      "%pylab inline\n",
      "import sympy          # Symbolic Python\n",
      "import numpy as np\n",
      "import pandas as pd\n",
      "import json"
     ],
     "language": "python",
     "metadata": {},
     "outputs": [
      {
       "output_type": "stream",
       "stream": "stdout",
       "text": [
        "Populating the interactive namespace from numpy and matplotlib\n"
       ]
      }
     ],
     "prompt_number": 31
    },
    {
     "cell_type": "heading",
     "level": 3,
     "metadata": {},
     "source": [
      "Multiple Choice"
     ]
    },
    {
     "cell_type": "heading",
     "level": 4,
     "metadata": {},
     "source": [
      "1. The SI units of momentum are..."
     ]
    },
    {
     "cell_type": "code",
     "collapsed": false,
     "input": [
      "mass_units = sympy.Symbol('kg')\n",
      "velocity_units = sympy.Symbol('m/s')\n",
      "momentum_units = mass_units * velocity_units\n",
      "\n",
      "print \"The units of momentum are %s\" % momentum_units"
     ],
     "language": "python",
     "metadata": {},
     "outputs": [
      {
       "output_type": "stream",
       "stream": "stdout",
       "text": [
        "The units of momentum are kg*m/s\n"
       ]
      }
     ],
     "prompt_number": 16
    },
    {
     "cell_type": "heading",
     "level": 4,
     "metadata": {},
     "source": [
      "2. Two masses $M$ and $5M$ rest on a horizontal frictionless table with a compressed spring of negligible mass between them. When the spring is released, the energy of the spring is shared between the two masses in such a way that...\n",
      "<ol style=\"list-style: Alpha;\">\n",
      "    <li>M gets 3/5 of the energy</li>\n",
      "    <li>M gets 1/6 of the energy</li>\n",
      "    <li>M gets 1/5 of the energy</li>\n",
      "    <li>M gets 4/5 of the energy</li>\n",
      "    <li>None of these will occur</li>\n",
      "</ol>"
     ]
    },
    {
     "cell_type": "markdown",
     "metadata": {},
     "source": [
      "Initially, the momentum of the system is zero since both objects are at rest in this reference frame. After the spring recoils, both objects attain a velocity in such a way that the have equal and opposite momenta:\n",
      "\n",
      "\\begin{align}\n",
      "    p_{f} &= p_{i} \\\\\n",
      "    0 &= m_{1}v_{1} + m_{2}v_{2} \\\\\n",
      "    0 &= mv_{1} + 5mv_{2}\n",
      "\\end{align}\n",
      "\n",
      "Which gives $v_{1f} = -5v_{2f}$. From this, we can find the total energy, $TE$, in terms of these two kinetic energies since mechanical energy was conserved for this system. This gives,\n",
      "\n",
      "\\begin{align}\n",
      "    TE &= \\frac{1}{2}mv_{1}^2 + \\frac{1}{2}5mv_{2}^2 \\\\\n",
      "       &= \\frac{1}{2}m\\left(-5v_{2}\\right)^2 + 5\\left(\\frac{1}{2}mv_{2}^2\\right) \\\\\n",
      "       &= 25\\left(\\frac{1}{2}mv_{2}^2\\right) + 5\\left(\\frac{1}{2}mv_{2}^2\\right) \\\\\n",
      "       &= 30\\left(\\frac{1}{2}mv_{2}^2\\right)\n",
      "\\end{align}\n",
      "\n",
      "To find out how much kinetic energy the lower-mass object gained in this reference frame, we take the ratio of $KE_{1}$ to $TE$:\n",
      "\n",
      "\\begin{align}\n",
      "    \\frac{KE_{1}}{TE} &= \\frac{25\\left(\\frac{1}{2}mv_{2}^2\\right)}{30\\left(\\frac{1}{2}mv_{2}^2\\right)} = \\frac{25}{30}\\\\\n",
      "                      &= \\frac{5}{6}\n",
      "\\end{align}\n",
      "\n",
      "Thus, we can see that the lower mass object gains 5/6$^{\\text{ths}}$ of the energy in the laboratory frame."
     ]
    },
    {
     "cell_type": "heading",
     "level": 4,
     "metadata": {},
     "source": [
      "3. Two students sitting on frictionless carts push against each other. Both are initially at rest and the mass of student one and the cart is $M$, and that of student two and the cart is $1.5M$. If student 1 pushes student 2 so that she recoils with velocity $-\\vec{v}$, what is the velocity of student 2?\n",
      "\n",
      "<ol style=\"list-style: Alpha;\">\n",
      "    <li>$\\vec{v}$</li>\n",
      "    <li>$-\\frac{2}{3}\\vec{v}$</li>\n",
      "    <li>$+1.5\\vec{v}$</li>\n",
      "    <li>$-1.5\\vec{v}$</li>\n",
      "    <li>+$\\frac{2}{3}\\vec{v}$</li>\n",
      "</ol>"
     ]
    },
    {
     "cell_type": "markdown",
     "metadata": {},
     "source": [
      "Initially, both students are at rest so the total momentum of the system is zero. By the conservation of momentum:\n",
      "\n",
      "\\begin{align}\n",
      "    0 = m\\left(-\\vec{v}\\right) + 1.5m\\vec{v}_{2}\n",
      "\\end{align}\n",
      "\n",
      "Solving for $\\vec{v}_{2}$ in terms of $\\vec{v}$, one finds:\n",
      "\\begin{equation}\n",
      "    \\vec{v}_{2} = \\frac{2}{3}\\vec{v}\n",
      "\\end{equation}"
     ]
    },
    {
     "cell_type": "heading",
     "level": 4,
     "metadata": {},
     "source": [
      "4. The condition necessary for the Conservation of Linear Momentum in a given statement is that:\n",
      "<ol style=\"list-style: Alpha;\">\n",
      "    <li>energy is conserved</li>\n",
      "    <li>one body is at rest</li>\n",
      "    <li>the net external force is zero</li>\n",
      "    <li>internal forces equal external forces</li>\n",
      "    <li>None of these is correct</li>\n",
      "</ol>"
     ]
    },
    {
     "cell_type": "markdown",
     "metadata": {},
     "source": [
      "By the <a href=\"http://www.physicsclassroom.com/class/momentum/u4l1b.cfm\">Impulse-Momentum theorem</a>,\n",
      "\n",
      "\\begin{equation}\n",
      "    p_{f} = p_{i} + F_{ext}\\cdot t\n",
      "\\end{equation}\n",
      "\n",
      "For momentum to be conserved, the momentum must not change. For this to be true, $F_{ext}$ must go to zero."
     ]
    },
    {
     "cell_type": "heading",
     "level": 4,
     "metadata": {},
     "source": [
      "5. Momentum is conserved in which of the following?\n",
      "<ol style=\"list-style: Alpha;\">\n",
      "    <li>elastic collisions</li>\n",
      "    <li>inelastic collisions</li>\n",
      "    <li>explosions</li>\n",
      "    <li>collisions between automobiles</li>\n",
      "    <li>all of these are correct</li>\n",
      "</ol>"
     ]
    },
    {
     "cell_type": "markdown",
     "metadata": {},
     "source": [
      "...."
     ]
    },
    {
     "cell_type": "heading",
     "level": 4,
     "metadata": {},
     "source": [
      "6. A boy and girl on iceskates face each other. The girl has a mass of $20.0\\,kg$ and the boy has a mass of $30\\,kg$. The boy puashes the girl backwards at a speed of $3.0\\,m/s$. As a result of the push, the speed of the boy is...\n",
      "<ol style=\"list-style: Alpha;\">\n",
      "    <li>$0\\,m/s$</li>\n",
      "    <li>$2.0\\,m/s$</li>\n",
      "    <li>$3.0\\,m/s$</li>\n",
      "    <li>$4.5\\,m/s$</li>\n",
      "    <li>$9.0\\,m/s$</li>\n",
      "</ol>"
     ]
    },
    {
     "cell_type": "markdown",
     "metadata": {},
     "source": [
      "..."
     ]
    },
    {
     "cell_type": "heading",
     "level": 4,
     "metadata": {},
     "source": [
      "7. A golf ball and a ping pong ball are dropped in a vacuum chamber. When they have fallen halfway to the floor, they have the same...\n",
      "\n",
      "<ol style=\"list-style: Alpha;\">\n",
      "    <li>speed</li>\n",
      "    <li>potential energy</li>\n",
      "    <li>kinetic energy</li>\n",
      "    <li>momentum</li>\n",
      "    <li>speed, potential energy, kinetic energy, and momentum</li>\n",
      "</ol>"
     ]
    },
    {
     "cell_type": "markdown",
     "metadata": {},
     "source": [
      "..."
     ]
    },
    {
     "cell_type": "heading",
     "level": 4,
     "metadata": {},
     "source": [
      "8. In any and all collisions of short duration for which there are no external forces acting on the objects in the collision,\n",
      "<ol style=\"list-style: Alpha;\">\n",
      "    <li>kinetic energy is conserved</li>\n",
      "    <li>both momentum and kinetic energy are conserved</li>\n",
      "    <li>neither momentum nor kinetic energy are conserved</li>\n",
      "    <li>the relative velocities before and after an impact are equal and oppositely directed</li>\n",
      "    <li>momentum is conserved</li>\n",
      "</ol>"
     ]
    },
    {
     "cell_type": "markdown",
     "metadata": {},
     "source": [
      "..."
     ]
    },
    {
     "cell_type": "heading",
     "level": 4,
     "metadata": {},
     "source": [
      "9. For a system consisting of two particles that undergo an elastic collision,\n",
      "<ol style=\"list-style: Alpha;\">\n",
      "    <li>momentum is conserved but the total energy is not conserved</li>\n",
      "    <li>neither kinetic energy nor the momentum is conserved</li>\n",
      "    <li>neither the total energy nor the momentum is necessarily conserved</li>\n",
      "    <li>the mechanical energy is conserved but momentum is not conserved</li>\n",
      "    <li>both kinetic energy and momentum are conserved</li>\n",
      "</ol>"
     ]
    },
    {
     "cell_type": "markdown",
     "metadata": {},
     "source": [
      "..."
     ]
    },
    {
     "cell_type": "heading",
     "level": 3,
     "metadata": {},
     "source": [
      "Momentum Problems"
     ]
    },
    {
     "cell_type": "heading",
     "level": 4,
     "metadata": {},
     "source": [
      "An incident ball $A$ of mass $0.10\\,kg$ is sliding at $1.4\\,m/s$ on the horizontal tabletop below. It makes a head-on collision with a target ball $B$ of mass $0.5\\,kg$ at rest at the edge of the table. As a result of the collision, the incident ball rebounds, sliding backwards at $0.7\\,m/s$ immediately after the collision."
     ]
    },
    {
     "cell_type": "markdown",
     "metadata": {},
     "source": [
      "<img src=\"http://lhs.loswego.k12.or.us/z-pricem/AP%20Physics/02%20Electrical%20Energy/00%20Energy%20&%20Momentum%20Review/Energy%20&%20Momentum%20Class%20Review_files/image014.gif\" style=\"float: left;\" />\n",
      "\n",
      "<img src=\"http://lhs.loswego.k12.or.us/z-pricem/AP%20Physics/02%20Electrical%20Energy/00%20Energy%20&%20Momentum%20Review/Energy%20&%20Momentum%20Class%20Review_files/image012.gif\" />"
     ]
    },
    {
     "cell_type": "code",
     "collapsed": false,
     "input": [
      "# Values given from the problem\n",
      "\n",
      "A = dict()\n",
      "A['m'] = 0.10 # kg\n",
      "A['vi'] = 1.4 # m/s\n",
      "A['vf'] = -0.7 # m/s <-- Note the negative, indicating it is traveling left after the collision\n",
      "\n",
      "B = dict()\n",
      "B['m'] = 0.50 # kg\n",
      "B['vi'] = 0.0 # m/s\n",
      "B['dy'] = 1.2 # m -- height above the ground (\\Delta y)\n",
      "\n",
      "print \"A = %s\" % A\n",
      "print \"B = %s\" % B"
     ],
     "language": "python",
     "metadata": {},
     "outputs": [
      {
       "output_type": "stream",
       "stream": "stdout",
       "text": [
        "A = {'vi': 1.4, 'm': 0.1, 'vf': -0.7}\n",
        "B = {'vi': 0.0, 'm': 0.5, 'dy': 1.2}\n"
       ]
      }
     ],
     "prompt_number": 38
    },
    {
     "cell_type": "heading",
     "level": 4,
     "metadata": {},
     "source": [
      "a) Draw FBDs of each object during the collision."
     ]
    },
    {
     "cell_type": "markdown",
     "metadata": {},
     "source": [
      "Snap a nice pic, send me the link."
     ]
    },
    {
     "cell_type": "heading",
     "level": 4,
     "metadata": {},
     "source": [
      "b) Calculate the speed of the $0.50\\,kg$, ball $B$, target ball immediately after the collision."
     ]
    },
    {
     "cell_type": "markdown",
     "metadata": {},
     "source": [
      "By conservation of momentum:\n",
      "$$m_{A}v_{iA} + m_{B}v_{iB} = m_{A}v_{fA} + m_{B}v_{fB}$$\n",
      "\n",
      "Solving for the final velocity of ball B,\n",
      "\n",
      "\\begin{align}\n",
      "    v_{fB} = \\frac{m_{A}v_{iA} + m_{B}v_{iB} - m_{A}v_{fA}}{m_{B}}\n",
      "\\end{align}"
     ]
    },
    {
     "cell_type": "code",
     "collapsed": false,
     "input": [
      "def vfB(obj1,obj2):\n",
      "    return (obj1['m'] * obj1['vi'] + obj2['m'] * obj2['vi'] - obj1['m'] * obj1['vf']) / obj2['m']\n",
      "\n",
      "print \"The final velocity of ball B is %4.2f m/s\" % vfB(A,B)"
     ],
     "language": "python",
     "metadata": {},
     "outputs": [
      {
       "output_type": "stream",
       "stream": "stdout",
       "text": [
        "The final velocity of ball B is 0.42 m/s\n"
       ]
      }
     ],
     "prompt_number": 18
    },
    {
     "cell_type": "code",
     "collapsed": false,
     "input": [
      "B['vf'] = 0.42 # m/s\n",
      "print B"
     ],
     "language": "python",
     "metadata": {},
     "outputs": [
      {
       "output_type": "stream",
       "stream": "stdout",
       "text": [
        "{'vi': 0.0, 'm': 0.5, 'vf': 0.42, 'dy': 1.2}\n"
       ]
      }
     ],
     "prompt_number": 39
    },
    {
     "cell_type": "heading",
     "level": 4,
     "metadata": {},
     "source": [
      "c) The tabletop is $1.2\\,m$ above a level, horizontal floor. The target ball is projected horizontally and initially strikes the floor at a horizontal displacement $d$ from the point collision. Calculate the horizontal displacement $d$."
     ]
    },
    {
     "cell_type": "markdown",
     "metadata": {},
     "source": [
      "This is just a projectile problem. From the available information, $t$ can be found, which is shared by both dimensions.\n",
      "\\begin{equation}\n",
      "    t = \\sqrt{\\frac{2\\Delta y}{a_{y}}}\n",
      "\\end{equation}\n",
      "\n",
      "From here, $\\Delta x$ can be calculated from $\\Delta x = v_{x} \\times t$"
     ]
    },
    {
     "cell_type": "code",
     "collapsed": false,
     "input": [
      "# Set up projectile table\n",
      "x = {'a': 0.0, 'vi': 0.42, 'vf': 0.42}\n",
      "y = {'a': -9.81, 'vi': 0.0, 'd': -1.2}\n",
      "\n",
      "# Find time\n",
      "def find_t(a_y, d_y):\n",
      "    return np.sqrt(2. * d_y / a_y)\n",
      "\n",
      "y['t'] = find_t(y['a'],y['d'])\n",
      "x['t'] = y['t']\n",
      "x['d'] = x['vi'] * x['t']   # x = vt\n",
      "\n",
      "print \"x = \\n\", json.dumps(x,indent=2), \"\\n\"\n",
      "print \"y = \\n\", json.dumps(y,indent=2)"
     ],
     "language": "python",
     "metadata": {},
     "outputs": [
      {
       "output_type": "stream",
       "stream": "stdout",
       "text": [
        "x = \n",
        "{\n",
        "  \"a\": 0.0, \n",
        "  \"vi\": 0.42, \n",
        "  \"t\": 0.49461936682949792, \n",
        "  \"vf\": 0.42, \n",
        "  \"d\": 0.20774013406838912\n",
        "} \n",
        "\n",
        "y = \n",
        "{\n",
        "  \"a\": -9.81, \n",
        "  \"vi\": 0.0, \n",
        "  \"d\": -1.2, \n",
        "  \"t\": 0.49461936682949792\n",
        "}\n"
       ]
      }
     ],
     "prompt_number": 44
    },
    {
     "cell_type": "code",
     "collapsed": false,
     "input": [
      "B['dx'] = x['d'] # m\n",
      "B['t'] =  x['t'] # s\n",
      "print \"B = \\n\", json.dumps(B,indent=2), \"\\n\"\n",
      "print \"A = \\n\", json.dumps(A,indent=2)"
     ],
     "language": "python",
     "metadata": {},
     "outputs": [
      {
       "output_type": "stream",
       "stream": "stdout",
       "text": [
        "B = \n",
        "{\n",
        "  \"vf\": 0.42, \n",
        "  \"vi\": 0.0, \n",
        "  \"m\": 0.5, \n",
        "  \"t\": 0.49461936682949792, \n",
        "  \"dx\": 0.20774013406838912, \n",
        "  \"dy\": 1.2\n",
        "} \n",
        "\n",
        "A = \n",
        "{\n",
        "  \"vi\": 1.4, \n",
        "  \"m\": 0.1, \n",
        "  \"vf\": -0.7\n",
        "}\n"
       ]
      }
     ],
     "prompt_number": 41
    },
    {
     "cell_type": "heading",
     "level": 4,
     "metadata": {},
     "source": [
      "In another experiment on the same table, the target ball $B$ is replaced by the target ball $C$ of mass $0.10\\,kg$. The incident ball $A$ again slides at $1.4\\,m/s$, as shown below left, but this time makes a glancing collision with the target balll $C$ that is at rest at the edge of the table. The target ball $C$ strikes the floor at point $P$, which is at a horizontal displacement of $0.15\\,m$ from the point of the collision, and at a horizontal angle of $30^{\\circ}$ from the $+x$-axis, as shown below right."
     ]
    },
    {
     "cell_type": "markdown",
     "metadata": {},
     "source": [
      "<img src=\"http://lhs.loswego.k12.or.us/z-pricem/AP%20Physics/02%20Electrical%20Energy/00%20Energy%20&%20Momentum%20Review/Energy%20&%20Momentum%20Class%20Review_files/image016.gif\" style=\"float: left;\"/> \n",
      "<img src=\"http://lhs.loswego.k12.or.us/z-pricem/AP%20Physics/02%20Electrical%20Energy/00%20Energy%20&%20Momentum%20Review/Energy%20&%20Momentum%20Class%20Review_files/image018.gif\" />"
     ]
    },
    {
     "cell_type": "code",
     "collapsed": false,
     "input": [
      "A = dict()\n",
      "C = dict()\n",
      "A['m'] = 0.1 # kg\n",
      "A['vi'] = 1.4 # m/s\n",
      "A['thi'] = 0. # radians -- initial angle\n",
      "\n",
      "C['m'] = 0.1 # kg\n",
      "C['vi'] = 0.0 # m/s\n",
      "C['thf'] = np.deg2rad(30.) # radians -- final angle"
     ],
     "language": "python",
     "metadata": {},
     "outputs": [],
     "prompt_number": 42
    },
    {
     "cell_type": "heading",
     "level": 4,
     "metadata": {},
     "source": [
      "d) Sketch two graphs, one for the momentum in the $x$-axis and a second showing the momentum in the $y$-axis."
     ]
    },
    {
     "cell_type": "code",
     "collapsed": false,
     "input": [],
     "language": "python",
     "metadata": {},
     "outputs": [],
     "prompt_number": 22
    },
    {
     "cell_type": "heading",
     "level": 4,
     "metadata": {},
     "source": [
      "e) Calculate the speed of $v$ of the target ball $C$ immediately after the collision."
     ]
    },
    {
     "cell_type": "markdown",
     "metadata": {},
     "source": [
      "The problem never states that the collision is elastic, so we do not know whether the kinetic energy is unchanged before and after the collision. Further, it gives a constraint on how far the object can travel from the table before hitting the ground. The object starts out with a $y$-velocity of $0\\,m/s$, the value of $t = 0.495\\,s$ from the previous question can be used here.\n",
      "\n",
      "Looking only at the momentum, there are too few constraints to uniquely identify a velocity, $v$. Using conservation of momentum, one finds $v_{Cf}$&mdash;the velocity of ball C&mdash;in terms of $\\theta$, the angle that object $A$ bounces off of $C$ as measured from the $x$-axis:\n",
      "\n",
      "\\begin{equation}\n",
      "    v_{Cf}\\left(\\theta\\right) = \\frac{v_{Ai}}{\\cos 30}\\left(\\frac{\\tan 30}{\\tan\\theta} + 1\\right)^{-1}\n",
      "\\end{equation}\n",
      "\n",
      "Since the object traveled $1.5\\,m$ horizontally in $0.495$ seconds, and there is no horizontal acceleration, the magnitude of velocity in the $x$ and $y$ directions is:\n",
      "\n",
      "\\begin{equation}\n",
      "v_{Cf} = \\frac{1.5\\,m}{0.495\\,s}\n",
      "\\end{equation}"
     ]
    },
    {
     "cell_type": "code",
     "collapsed": false,
     "input": [
      "C['t'] = B['t'] # s -- time to fall off the table\n",
      "C['dx'] = 0.15 # m -- distance traveled in x direction off table\n",
      "C['vf'] = C['dx'] / C['t'] # m/s\n",
      "\n",
      "# Plot the curve that is a solution to v(\\theta)\n",
      "# \n",
      "x = np.linspace(0,np.pi / 2.) # angles on x-axis\n",
      "\n",
      "# Equation for vCf as a function of the recoil angle of ball A\n",
      "def find_v(th,vAi=1.4):\n",
      "    t1 = vAi / np.cos(deg2rad(30.))\n",
      "    t2 = 1. / (np.tan(deg2rad(30.))/np.tan(th) + 1.)\n",
      "    return t1 * t2\n",
      "\n",
      "def find_th(vAi,v):\n",
      "    return np.arctan(np.tan(deg2rad(30.)) / (vAi / (v * np.cos(deg2rad(30.))) - 1))\n",
      "\n",
      "plt.plot(x, find_v(x), find_th(A['vi'],C['vf']), C['vf'],'r+', ms=15)\n",
      "\n",
      "plt.xlabel(r'Angle, $\\theta$ (rads)')\n",
      "plt.ylabel(r'Velocity (m/s)')\n",
      "plt.title(r'Velocity of ball C w/r/t angles of ball A')\n",
      "plt.legend((\"Possible velocities\", \"Velocity given constraint\"), loc=4)"
     ],
     "language": "python",
     "metadata": {},
     "outputs": [
      {
       "metadata": {},
       "output_type": "pyout",
       "prompt_number": 78,
       "text": [
        "<matplotlib.legend.Legend at 0x10a4c1210>"
       ]
      },
      {
       "metadata": {},
       "output_type": "display_data",
       "png": "[encoded data removed]",
       "text": [
        "<matplotlib.figure.Figure at 0x10a17e2d0>"
       ]
      }
     ],
     "prompt_number": 78
    },
    {
     "cell_type": "heading",
     "level": 4,
     "metadata": {},
     "source": [
      "f) Calculate the $y$-component of the incident ball $A$'s momentum immediately after the collision."
     ]
    },
    {
     "cell_type": "markdown",
     "metadata": {},
     "source": [
      "Since momentum is conserved, all we need to calculate the $y$-component of ball $A$ is the negative of the $y$-component of ball $C$.\n",
      "\n",
      "\\begin{align}\n",
      "p_{iy} &= p_{fy} \\\\\n",
      "0 &= p_{fAy} + p_{fCy}\n",
      "\\end{align}\n",
      "\n",
      "Therefore, $p_{fAy} = -p_{fCy} = -m_{C}v_{fC}\\sin\\left(30^{\\circ}\\right)$"
     ]
    },
    {
     "cell_type": "code",
     "collapsed": false,
     "input": [
      "A['pfy'] = - C['m'] * C['vf'] * np.sin(deg2rad(-30.))\n",
      "print \"ball A will have a y-momentum of %4.2f kg*m/s\" % A['pfy']"
     ],
     "language": "python",
     "metadata": {},
     "outputs": [
      {
       "output_type": "stream",
       "stream": "stdout",
       "text": [
        "ball A will have a y-momentum of 0.15 kg*m/s\n"
       ]
      }
     ],
     "prompt_number": 75
    },
    {
     "cell_type": "heading",
     "level": 3,
     "metadata": {},
     "source": [
      "2. Three balls, A, B, and C, with masses $3.0\\,kg$, $1.0\\,kg$, and $1.0\\,kg$, respectively, are connected by massless rods. What are the coordinates of the center of mass of this system?"
     ]
    },
    {
     "cell_type": "markdown",
     "metadata": {},
     "source": [
      "We saw that the <a href=\"http://en.wikipedia.org/wiki/Center_of_mass\">center of mass</a> can be calculated from the following equation:\n",
      "\n",
      "\\begin{equation}\n",
      "    \\vec{r}_{\\text{com}} = \\frac{\\sum_{i=1}^{n}m_{i}\\vec{r}_{i}}{\\sum_{i=1}^{n}m_{i}}\n",
      "\\end{equation}\n",
      "\n",
      "Where $m_{i}$ represents the $i$th mass, and $\\vec{r}_{i}$ represents the position of the $i$th mass.\n",
      "\n",
      "Or, in separate coordinates:\n",
      "\n",
      "\\begin{align}\n",
      "    x_{\\text{com}} &= \\frac{\\sum_{i=1}^{n}m_{i}x_{i}}{\\sum_{i=1}^{n}m_{i}} \\\\\n",
      "    y_{\\text{com}} &= \\frac{\\sum_{i=1}^{n}m_{i}y_{i}}{\\sum_{i=1}^{n}m_{i}}\n",
      "\\end{align}\n"
     ]
    },
    {
     "cell_type": "code",
     "collapsed": false,
     "input": [
      "# Location of masses relative to (0,0) measured in meters\n",
      "A = np.array([2,2])\n",
      "B = np.array([1,1])\n",
      "C = np.array([3,0])\n",
      "\n",
      "mA = 3. # kg\n",
      "mB = mC = 1. # kg\n",
      "masses = np.array([3., 1., 1.])\n",
      "\n",
      "def com(m1,m2,m3,x1,x2,x3,debug=False):\n",
      "    \"takes masses and locations of three particles, returns center of mass coordinate\"\n",
      "    num = m1 * x1 + m2 * x2 + m3 * x3\n",
      "    denom = m1 + m2 + m3\n",
      "    if debug:\n",
      "        print \"num = %f\" % num\n",
      "        print \"denom = %f\" % denom\n",
      "    return num / denom\n",
      "\n",
      "xcom = com(mA, mB, mC, A[0], B[0], C[0])\n",
      "ycom = com(mA, mB, mC, A[1], B[1], C[1])\n",
      "\n",
      "print \"The center of mass of the object is located at (%5.2f, %5.2f) m\" % (xcom, ycom)"
     ],
     "language": "python",
     "metadata": {},
     "outputs": [
      {
       "output_type": "stream",
       "stream": "stdout",
       "text": [
        "The center of mass of the object is located at ( 2.00,  1.40) m\n"
       ]
      }
     ],
     "prompt_number": 24
    },
    {
     "cell_type": "code",
     "collapsed": false,
     "input": [],
     "language": "python",
     "metadata": {},
     "outputs": []
    },
    {
     "cell_type": "heading",
     "level": 3,
     "metadata": {},
     "source": [
      "pts = np.array([A,B,C])\n",
      "x, y = [i[0] for i in pts], [i[1] for i in pts]\n",
      "plt.scatter(x,y, s=(50*masses))\n",
      "plt.axis([0.5, 3.5, -1, 3])\n",
      "plt.plot(xcom,ycom, 'rx', markersize=10)"
     ]
    }
   ],
   "metadata": {}
  }
 ]
}