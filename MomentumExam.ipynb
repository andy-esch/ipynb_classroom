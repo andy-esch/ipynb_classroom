{
 "metadata": {
  "name": "",
  "signature": "sha256:a0bc7c8843d372bc0b79a09662f546dd44c586cc8a9e69ebc262d4edc4918d25"
 },
 "nbformat": 3,
 "nbformat_minor": 0,
 "worksheets": [
  {
   "cells": [
    {
     "cell_type": "heading",
     "level": 4,
     "metadata": {},
     "source": [
      "1. The SI units of momentum are..."
     ]
    },
    {
     "cell_type": "code",
     "collapsed": false,
     "input": [
      "%pylab inline\n",
      "import sympy\n",
      "import numpy as np\n",
      "import pylab as plt\n",
      "\n",
      "mass_units = sympy.Symbol('kg')\n",
      "velocity_units = sympy.Symbol('m/s')\n",
      "momentum_units = mass_units * velocity_units\n",
      "\n",
      "print \"The units of momentum are %s\" % momentum_units"
     ],
     "language": "python",
     "metadata": {},
     "outputs": [
      {
       "output_type": "stream",
       "stream": "stdout",
       "text": [
        "Populating the interactive namespace from numpy and matplotlib\n",
        "The units of momentum are kg*m/s"
       ]
      },
      {
       "output_type": "stream",
       "stream": "stdout",
       "text": [
        "\n"
       ]
      }
     ],
     "prompt_number": 1
    },
    {
     "cell_type": "markdown",
     "metadata": {},
     "source": [
      "2. Two masses $M$ and $5M$ rest on a horizontal frictionless table with a compressed spring of negligible mass between them. When the spring is released, the energy of the spring is shared between the two masses in such a way that...\n",
      "<ol style=\"list-style: Alpha;\">\n",
      "    <li>M gets 3/5 of the energy</li>\n",
      "    <li>M gets 1/6 of the energy</li>\n",
      "    <li>M gets 1/5 of the energy</li>\n",
      "    <li>M gets 4/5 of the energy</li>\n",
      "    <li style=\"font-weight: bold;\">None of these will occur</li>\n",
      "</ol>"
     ]
    },
    {
     "cell_type": "markdown",
     "metadata": {},
     "source": [
      "Initially, the momentum of the system is zero since both objects are at rest in this reference frame. After the spring recoils, both objects attain a velocity in such a way that the have equal and opposite momenta:\n",
      "\n",
      "\\begin{align}\n",
      "    p_{f} &= p_{i} \\\\\n",
      "    0 &= m_{1}v_{1} + m_{2}v_{2} \\\\\n",
      "    0 &= mv_{1} + 5mv_{2}\n",
      "\\end{align}\n",
      "\n",
      "Which gives $v_{1f} = -5v_{2f}$. From this, we can find the total energy, $TE$ in terms of these two kinetic energies since mechanical energy was conserved for this system. This gives,\n",
      "\n",
      "\\begin{align}\n",
      "    TE &= \\frac{1}{2}mv_{1}^2 + \\frac{1}{2}5mv_{2}^2 \\\\\n",
      "       &= \\frac{1}{2}m\\left(-5v_{2}\\right)^2 + 5\\left(\\frac{1}{2}mv_{2}^2\\right) \\\\\n",
      "       &= 25\\left(\\frac{1}{2}mv_{2}^2\\right) + 5\\left(\\frac{1}{2}mv_{2}^2\\right) \\\\\n",
      "       &= 30\\left(\\frac{1}{2}mv_{2}^2\\right)\n",
      "\\end{align}\n",
      "\n",
      "To find out how much kinetic energy the lower-mass object gained in this reference frame, we take the ratio of $KE_{1}$ to $TE$:\n",
      "\n",
      "\\begin{align}\n",
      "    \\frac{KE_{1}}{TE} &= \\frac{25\\left(\\frac{1}{2}mv_{2}^2\\right)}{30\\left(\\frac{1}{2}mv_{2}^2\\right)} = \\frac{25}{30}\\\\\n",
      "                      &= \\frac{5}{6}\n",
      "\\end{align}\n",
      "\n",
      "Thus, we can see that the lower mass object gains 5/6$^{\\text{ths}}$ of the energy in the laboratory frame."
     ]
    },
    {
     "cell_type": "heading",
     "level": 4,
     "metadata": {},
     "source": [
      "b) Calculate the speed of the 0.50 kg target ball immediately after the collision."
     ]
    },
    {
     "cell_type": "markdown",
     "metadata": {},
     "source": [
      "By conservation of momentum:\n",
      "$$m_{A}v_{iA} + m_{B}v_{iB} = m_{A}v_{fA} + m_{B}v_{fB}$$\n",
      "\n",
      "Solving for the final velocity of ball B,\n",
      "\n",
      "\\begin{align}\n",
      "    v_{fB} = \\frac{m_{A}v_{iA} + m_{B}v_{iB} - m_{A}v_{fA}}{m_{B}}\n",
      "\\end{align}"
     ]
    },
    {
     "cell_type": "code",
     "collapsed": false,
     "input": [
      "massA = 0.10 # kg\n",
      "massB = 0.50 # kg\n",
      "vel_iA = 1.4 # m/s\n",
      "vel_iB = 0.0 # m/s\n",
      "vel_fA = -0.7 # m/s <-- Note the negative, indicating it is traveling left after the collision\n",
      "\n",
      "def vfB(mA,mB,viA,viB,vfA):\n",
      "    return (mA * viA + mB * viB - mA * vfA) / mB\n",
      "\n",
      "print \"The final velocity of ball B is %4.2f m/s\" % vfB(massA,massB,vel_iA,vel_iB,vel_fA)"
     ],
     "language": "python",
     "metadata": {},
     "outputs": [
      {
       "output_type": "stream",
       "stream": "stdout",
       "text": [
        "The final velocity of ball B is 0.42 m/s\n"
       ]
      }
     ],
     "prompt_number": 14
    },
    {
     "cell_type": "heading",
     "level": 4,
     "metadata": {},
     "source": [
      "2. Three balls, A, B, and C, with masses $3.0\\,kg$, $1.0\\,kg$, and $1.0\\,kg$, respectively, are connected by massless rods. What are the coordinates of the center of mass of this system?"
     ]
    },
    {
     "cell_type": "code",
     "collapsed": false,
     "input": [
      "# Location of masses relative to (0,0) measured in meters\n",
      "A = np.array([2,2])\n",
      "B = np.array([1,1])\n",
      "C = np.array([3,0])\n",
      "\n",
      "mA = 3. # kg\n",
      "mB = mC = 1. # kg\n",
      "masses = np.array([3., 1., 1.])\n",
      "\n",
      "def com(m1,m2,m3,x1,x2,x3,debug=False):\n",
      "    \"takes masses and locations of three particles, returns center of mass coordinate\"\n",
      "    num = m1 * x1 + m2 * x2 + m3 * x3\n",
      "    denom = m1 + m2 + m3\n",
      "    if debug:\n",
      "        print \"num = %f\" % num\n",
      "        print \"denom = %f\" % denom\n",
      "    return num / denom\n",
      "\n",
      "xcom = com(mA, mB, mC, A[0], B[0], C[0])\n",
      "ycom = com(mA, mB, mC, A[1], B[1], C[1])\n",
      "\n",
      "print \"The center of mass of the object is located at (%5.2f, %5.2f) m\" % (xcom, ycom)"
     ],
     "language": "python",
     "metadata": {},
     "outputs": [
      {
       "output_type": "stream",
       "stream": "stdout",
       "text": [
        "The center of mass of the object is located at ( 2.00,  1.40) m\n"
       ]
      }
     ],
     "prompt_number": 91
    },
    {
     "cell_type": "code",
     "collapsed": false,
     "input": [
      "pts = np.array([A,B,C])\n",
      "x, y = [i[0] for i in pts], [i[1] for i in pts]\n",
      "plt.scatter(x,y, s=(50*masses))\n",
      "plt.axis([0.5, 3.5, -1, 3])\n",
      "plt.plot(xcom,ycom, 'rx', markersize=10)\n"
     ],
     "language": "python",
     "metadata": {},
     "outputs": []
    },
    {
     "cell_type": "code",
     "collapsed": false,
     "input": [],
     "language": "python",
     "metadata": {},
     "outputs": []
    }
   ],
   "metadata": {}
  }
 ]
}