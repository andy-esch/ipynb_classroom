{
 "metadata": {
  "name": "",
  "signature": "sha256:b8b90910f10b7090a6123bb513d62fe050dd1fbcbdc6e942eb2624879ec94a5c"
 },
 "nbformat": 3,
 "nbformat_minor": 0,
 "worksheets": [
  {
   "cells": [
    {
     "cell_type": "heading",
     "level": 3,
     "metadata": {},
     "source": [
      "Multiple Choice"
     ]
    },
    {
     "cell_type": "heading",
     "level": 4,
     "metadata": {},
     "source": [
      "1. The SI units of momentum are..."
     ]
    },
    {
     "cell_type": "code",
     "collapsed": false,
     "input": [
      "%pylab inline\n",
      "import sympy          # Symbolic Python\n",
      "import numpy as np\n",
      "import pandas as pd\n",
      "\n",
      "mass_units = sympy.Symbol('kg')\n",
      "velocity_units = sympy.Symbol('m/s')\n",
      "momentum_units = mass_units * velocity_units\n",
      "\n",
      "print \"The units of momentum are %s\" % momentum_units"
     ],
     "language": "python",
     "metadata": {},
     "outputs": [
      {
       "output_type": "stream",
       "stream": "stdout",
       "text": [
        "Populating the interactive namespace from numpy and matplotlib\n",
        "The units of momentum are kg*m/s\n"
       ]
      }
     ],
     "prompt_number": 24
    },
    {
     "cell_type": "markdown",
     "metadata": {},
     "source": [
      "2. Two masses $M$ and $5M$ rest on a horizontal frictionless table with a compressed spring of negligible mass between them. When the spring is released, the energy of the spring is shared between the two masses in such a way that...\n",
      "<ol style=\"list-style: Alpha;\">\n",
      "    <li>M gets 3/5 of the energy</li>\n",
      "    <li>M gets 1/6 of the energy</li>\n",
      "    <li>M gets 1/5 of the energy</li>\n",
      "    <li>M gets 4/5 of the energy</li>\n",
      "    <li style=\"font-weight: bold;\">None of these will occur</li>\n",
      "</ol>"
     ]
    },
    {
     "cell_type": "markdown",
     "metadata": {},
     "source": [
      "Initially, the momentum of the system is zero since both objects are at rest in this reference frame. After the spring recoils, both objects attain a velocity in such a way that the have equal and opposite momenta:\n",
      "\n",
      "\\begin{align}\n",
      "    p_{f} &= p_{i} \\\\\n",
      "    0 &= m_{1}v_{1} + m_{2}v_{2} \\\\\n",
      "    0 &= mv_{1} + 5mv_{2}\n",
      "\\end{align}\n",
      "\n",
      "Which gives $v_{1f} = -5v_{2f}$. From this, we can find the total energy, $TE$ in terms of these two kinetic energies since mechanical energy was conserved for this system. This gives,\n",
      "\n",
      "\\begin{align}\n",
      "    TE &= \\frac{1}{2}mv_{1}^2 + \\frac{1}{2}5mv_{2}^2 \\\\\n",
      "       &= \\frac{1}{2}m\\left(-5v_{2}\\right)^2 + 5\\left(\\frac{1}{2}mv_{2}^2\\right) \\\\\n",
      "       &= 25\\left(\\frac{1}{2}mv_{2}^2\\right) + 5\\left(\\frac{1}{2}mv_{2}^2\\right) \\\\\n",
      "       &= 30\\left(\\frac{1}{2}mv_{2}^2\\right)\n",
      "\\end{align}\n",
      "\n",
      "To find out how much kinetic energy the lower-mass object gained in this reference frame, we take the ratio of $KE_{1}$ to $TE$:\n",
      "\n",
      "\\begin{align}\n",
      "    \\frac{KE_{1}}{TE} &= \\frac{25\\left(\\frac{1}{2}mv_{2}^2\\right)}{30\\left(\\frac{1}{2}mv_{2}^2\\right)} = \\frac{25}{30}\\\\\n",
      "                      &= \\frac{5}{6}\n",
      "\\end{align}\n",
      "\n",
      "Thus, we can see that the lower mass object gains 5/6$^{\\text{ths}}$ of the energy in the laboratory frame."
     ]
    },
    {
     "cell_type": "heading",
     "level": 3,
     "metadata": {},
     "source": [
      "Momentum Problems"
     ]
    },
    {
     "cell_type": "heading",
     "level": 4,
     "metadata": {},
     "source": [
      "An incident ball $A$ of mass $0.10\\,kg$ is sliding at $1.4\\,m/s$ on the horizontal tabletop below. It makes a head-on collision with a target ball $B$ of mass $0.5\\,kg$ at rest at the edge of the table. As a result of the collision, the incident ball rebounds, sliding backwards at $0.7\\,m/s$ immediately after the collision."
     ]
    },
    {
     "cell_type": "markdown",
     "metadata": {},
     "source": [
      "<img src=\"http://lhs.loswego.k12.or.us/z-pricem/AP%20Physics/02%20Electrical%20Energy/00%20Energy%20&%20Momentum%20Review/Energy%20&%20Momentum%20Class%20Review_files/image014.gif\" style=\"float: left;\" />\n",
      "\n",
      "<img src=\"http://lhs.loswego.k12.or.us/z-pricem/AP%20Physics/02%20Electrical%20Energy/00%20Energy%20&%20Momentum%20Review/Energy%20&%20Momentum%20Class%20Review_files/image012.gif\" />"
     ]
    },
    {
     "cell_type": "heading",
     "level": 4,
     "metadata": {},
     "source": [
      "a) Draw FBDs of each object during the collision."
     ]
    },
    {
     "cell_type": "code",
     "collapsed": false,
     "input": [],
     "language": "python",
     "metadata": {},
     "outputs": []
    },
    {
     "cell_type": "heading",
     "level": 4,
     "metadata": {},
     "source": [
      "b) Calculate the speed of the 0.50 kg target ball immediately after the collision."
     ]
    },
    {
     "cell_type": "markdown",
     "metadata": {},
     "source": [
      "By conservation of momentum:\n",
      "$$m_{A}v_{iA} + m_{B}v_{iB} = m_{A}v_{fA} + m_{B}v_{fB}$$\n",
      "\n",
      "Solving for the final velocity of ball B,\n",
      "\n",
      "\\begin{align}\n",
      "    v_{fB} = \\frac{m_{A}v_{iA} + m_{B}v_{iB} - m_{A}v_{fA}}{m_{B}}\n",
      "\\end{align}"
     ]
    },
    {
     "cell_type": "code",
     "collapsed": false,
     "input": [
      "massA = 0.10 # kg\n",
      "massB = 0.50 # kg\n",
      "vel_iA = 1.4 # m/s\n",
      "vel_iB = 0.0 # m/s\n",
      "vel_fA = -0.7 # m/s <-- Note the negative, indicating it is traveling left after the collision\n",
      "\n",
      "def vfB(mA,mB,viA,viB,vfA):\n",
      "    return (mA * viA + mB * viB - mA * vfA) / mB\n",
      "\n",
      "print \"The final velocity of ball B is %4.2f m/s\" % vfB(massA,massB,vel_iA,vel_iB,vel_fA)"
     ],
     "language": "python",
     "metadata": {},
     "outputs": [
      {
       "output_type": "stream",
       "stream": "stdout",
       "text": [
        "The final velocity of ball B is 0.42 m/s\n"
       ]
      }
     ],
     "prompt_number": 6
    },
    {
     "cell_type": "heading",
     "level": 4,
     "metadata": {},
     "source": [
      "c) The tabletop is $1.2\\,m$ above a level, horizontal floor. The target ball is projected horizontally and initially strikes the floor at a horizontal displacement $d$ from the point collision. Calculate the horizontal displacement $d$."
     ]
    },
    {
     "cell_type": "code",
     "collapsed": false,
     "input": [
      "# Introduce parameters\n",
      "h = 1.2 # m\n",
      "vxi = 0.42 # m/s\n",
      "vyi = 0.0 # m/s\n",
      "\n",
      "traj_x = {'a': 0.0, 'vi': 0.42, 'vf': 0.42}\n",
      "traj_y = {'a': -9.81, 'vi': 0.0, 'd': 1.2}\n",
      "\n",
      "def find_t(a_y, d_y):\n",
      "    return np.sqrt(2. * d_y / a_y)\n",
      "\n",
      "traj_x['t'] = find_t(np.abs(traj_y['a']),traj_y['d'])\n",
      "traj_y['t'] = traj_x['t']\n",
      "traj_x['d'] = traj_x['vi'] * traj_x['t']\n",
      "\n",
      "print \"d = %5.2f m\" % traj_x['d']"
     ],
     "language": "python",
     "metadata": {},
     "outputs": [
      {
       "output_type": "stream",
       "stream": "stdout",
       "text": [
        "d =  0.21 m\n"
       ]
      }
     ],
     "prompt_number": 16
    },
    {
     "cell_type": "heading",
     "level": 4,
     "metadata": {},
     "source": [
      "In another experiment on the same table, the target ball $B$ is replaced by the target ball $C$ of mass $0.10\\,kg$. The incident ball $A$ again slides at $1.4\\,m/s$, as shown below left, but this time makes a glancing collision with the target balll $C$ that is at rest at the edge of the table. The target ball $C$ strikes the floor at point $P$, which is at a horizontal displacement of $0.15\\,m$ from the point of the collision, and at a horizontal angle of $30^{\\circ}$ from the $+x$-axis, as shown below right."
     ]
    },
    {
     "cell_type": "markdown",
     "metadata": {},
     "source": [
      "<img src=\"http://lhs.loswego.k12.or.us/z-pricem/AP%20Physics/02%20Electrical%20Energy/00%20Energy%20&%20Momentum%20Review/Energy%20&%20Momentum%20Class%20Review_files/image016.gif\" style=\"float: left;\"/> \n",
      "<img src=\"http://lhs.loswego.k12.or.us/z-pricem/AP%20Physics/02%20Electrical%20Energy/00%20Energy%20&%20Momentum%20Review/Energy%20&%20Momentum%20Class%20Review_files/image018.gif\" />"
     ]
    },
    {
     "cell_type": "code",
     "collapsed": false,
     "input": [
      "A = dict()\n",
      "C = dict()\n",
      "A['m'] = 0.1 # kg\n",
      "A['vi'] = 1.4 # m/s\n",
      "A['thi'] = 0. # radians -- initial angle\n",
      "\n",
      "C['m'] = 0.1 # kg\n",
      "C['vi'] = 0.0 # m/s\n",
      "C['thf'] = np.deg2rad(30.) # radians -- final angle\n"
     ],
     "language": "python",
     "metadata": {},
     "outputs": [],
     "prompt_number": 48
    },
    {
     "cell_type": "heading",
     "level": 4,
     "metadata": {},
     "source": [
      "d) Sketch two graphs, one for the momentum in the $x$-axis and a second showing the momentum in the $y$-axis."
     ]
    },
    {
     "cell_type": "code",
     "collapsed": false,
     "input": [],
     "language": "python",
     "metadata": {},
     "outputs": []
    },
    {
     "cell_type": "heading",
     "level": 4,
     "metadata": {},
     "source": [
      "e) Calculate the speed of $v$ of the target ball $C$ immediately after the collision."
     ]
    },
    {
     "cell_type": "markdown",
     "metadata": {},
     "source": [
      "The problem never states that the collision is elastic, so we do not know whether the kinetic energy is unchanged before and after the collision. Further, it gives a constraint on how far the object can travel from the table before hitting the ground. The object starts out with a $y$-velocity of $0\\,m/s$, the value of $t = 0.495\\,s$ from the previous question can be used here.\n",
      "\n",
      "Since the object traveled $1.5\\,m$ horizontally in $0.495$ seconds, and there is no horizontal acceleration, the $x$ velocity is given by:\n",
      "\n",
      "\\begin{equation}\n",
      "v_{x} = \\frac{1.5\\,m}{0.495\\,s}\n",
      "\\end{equation}\n",
      "\n",
      "Looking only at the momentum, there are too few constraints to uniquely identify a velocity, $v$. Using conservation of momentum, one finds $v$&mdash;the velocity of ball C&mdash;in terms of $\\theta$, the angle that object $A$ bounces off of $C$ as measured from the $x$-axis:\n",
      "\n",
      "\\begin{equation}\n",
      "    v\\left(\\theta\\right) = \\frac{v_{Ai}}{\\cos 30}\\left(\\frac{\\tan 30}{\\tan\\theta} + 1\\right)^{-1}\n",
      "\\end{equation}"
     ]
    },
    {
     "cell_type": "code",
     "collapsed": false,
     "input": [
      "C['t'] = 0.495 # s -- time to fall off the table\n",
      "C['dx'] = 1.5 # m -- distance traveled in x direction off table\n",
      "C['vf'] = 1.5 / 0.495 # m/s\n",
      "\n",
      "x = np.linspace(0,np.pi / 2.)\n",
      "def find_v(th,vai=1.4):\n",
      "    t1 = vai / np.cos(deg2rad(30.))\n",
      "    t2 = 1. / (np.tan(deg2rad(30.))/np.tan(th) + 1.)\n",
      "    return t1 * t2\n",
      "\n",
      "def find_v2(th,vaf=0.3):\n",
      "    return vaf * np.cos(th) / np.sin(deg2rad(30.))\n",
      "\n",
      "def find_th(vai,v):\n",
      "    return np.tan(deg2rad(30.)) / (vai / (v * np.cos(deg2rad(30.))) - 1)\n",
      "\n",
      "p1,p2 = plt.plot(x,find_v(x),find_th(1.4,0.3),0.3,'r+',ms=15)\n",
      "plt.xlabel(r'Angle, $\\theta$ (rads)')\n",
      "plt.ylabel(r'Velocity (m/s)')\n",
      "plt.title(r'Velocity of ball C w/r/t angles of ball A')\n",
      "plt.legend((\"Possible velocities\",\"Velocity given constraint\"), loc=4)"
     ],
     "language": "python",
     "metadata": {},
     "outputs": [
      {
       "metadata": {},
       "output_type": "pyout",
       "prompt_number": 57,
       "text": [
        "<matplotlib.legend.Legend at 0x10d30bad0>"
       ]
      },
      {
       "metadata": {},
       "output_type": "display_data",
       "png": "[encoded data removed]",
       "text": [
        "<matplotlib.figure.Figure at 0x10ce86c10>"
       ]
      }
     ],
     "prompt_number": 57
    },
    {
     "cell_type": "code",
     "collapsed": false,
     "input": [
      "C = dict()\n",
      "C['t'] = traj_x['t']\n",
      "C['vix'] = 1.5 / 0.495\n",
      "print traj_C"
     ],
     "language": "python",
     "metadata": {},
     "outputs": [
      {
       "output_type": "stream",
       "stream": "stdout",
       "text": [
        "{'vix': 3.0303030303030303, 't': 0.49461936682949792}\n"
       ]
      }
     ],
     "prompt_number": 21
    },
    {
     "cell_type": "heading",
     "level": 4,
     "metadata": {},
     "source": [
      "2. Three balls, A, B, and C, with masses $3.0\\,kg$, $1.0\\,kg$, and $1.0\\,kg$, respectively, are connected by massless rods. What are the coordinates of the center of mass of this system?"
     ]
    },
    {
     "cell_type": "code",
     "collapsed": false,
     "input": [
      "# Location of masses relative to (0,0) measured in meters\n",
      "A = np.array([2,2])\n",
      "B = np.array([1,1])\n",
      "C = np.array([3,0])\n",
      "\n",
      "mA = 3. # kg\n",
      "mB = mC = 1. # kg\n",
      "masses = np.array([3., 1., 1.])\n",
      "\n",
      "def com(m1,m2,m3,x1,x2,x3,debug=False):\n",
      "    \"takes masses and locations of three particles, returns center of mass coordinate\"\n",
      "    num = m1 * x1 + m2 * x2 + m3 * x3\n",
      "    denom = m1 + m2 + m3\n",
      "    if debug:\n",
      "        print \"num = %f\" % num\n",
      "        print \"denom = %f\" % denom\n",
      "    return num / denom\n",
      "\n",
      "xcom = com(mA, mB, mC, A[0], B[0], C[0])\n",
      "ycom = com(mA, mB, mC, A[1], B[1], C[1])\n",
      "\n",
      "print \"The center of mass of the object is located at (%5.2f, %5.2f) m\" % (xcom, ycom)"
     ],
     "language": "python",
     "metadata": {},
     "outputs": []
    },
    {
     "cell_type": "code",
     "collapsed": false,
     "input": [
      "pts = np.array([A,B,C])\n",
      "x, y = [i[0] for i in pts], [i[1] for i in pts]\n",
      "plt.scatter(x,y, s=(50*masses))\n",
      "plt.axis([0.5, 3.5, -1, 3])\n",
      "plt.plot(xcom,ycom, 'rx', markersize=10)\n"
     ],
     "language": "python",
     "metadata": {},
     "outputs": []
    },
    {
     "cell_type": "code",
     "collapsed": false,
     "input": [],
     "language": "python",
     "metadata": {},
     "outputs": []
    }
   ],
   "metadata": {}
  }
 ]
}