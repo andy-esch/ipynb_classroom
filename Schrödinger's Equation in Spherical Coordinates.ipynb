{
 "metadata": {
  "name": "",
  "signature": "sha256:855809e274e115abfb091703f7cba241ca46f3d83d172e2c47751911d65ef748"
 },
 "nbformat": 3,
 "nbformat_minor": 0,
 "worksheets": [
  {
   "cells": [
    {
     "cell_type": "code",
     "collapsed": false,
     "input": [
      "%pylab inline\n",
      "import matplotlib.pyplot as plt"
     ],
     "language": "python",
     "metadata": {},
     "outputs": [
      {
       "output_type": "stream",
       "stream": "stdout",
       "text": [
        "Populating the interactive namespace from numpy and matplotlib\n"
       ]
      }
     ],
     "prompt_number": 4
    },
    {
     "cell_type": "heading",
     "level": 2,
     "metadata": {},
     "source": [
      "Schr&#246;dinger's Equation in Spherical Coordinates with a Spherically Symmetric Potential"
     ]
    },
    {
     "cell_type": "markdown",
     "metadata": {},
     "source": [
      "In one dimension, Schr&#246;dinger's Equation is:\n",
      "\n",
      "\\begin{equation}\n",
      "\\frac{d^2\\psi}{dx^2} = -\\frac{2m}{\\hbar^2}\\left[E - U(x)\\right]\\,\\psi(x)\n",
      "\\end{equation}"
     ]
    },
    {
     "cell_type": "markdown",
     "metadata": {},
     "source": [
      "To go to three dimensions,\n",
      "\n",
      "\\begin{align}\n",
      "x \\rightarrow & \\vec{r} = \\left(x,y,z\\right) \\\\\n",
      "\\phantom{hi}\\\\\n",
      "\\frac{d}{dx} \\rightarrow & \\left(\\frac{\\partial}{\\partial x}, \\frac{\\partial}{\\partial y}, \\frac{\\partial}{\\partial z}\\right)\n",
      "\\end{align}\n",
      "\n",
      "$\\vec{\\nabla}$ is the 3D version of <span style=\"font-size: 1.5em;\">$\\frac{d}{dx}$</span>\n",
      "\n",
      "\\begin{equation}\n",
      "\\vec{\\nabla} = \\hat{x}\\frac{\\partial}{\\partial x} + \\hat{y}\\frac{\\partial}{\\partial y} + \\hat{z}\\frac{\\partial}{\\partial z}\n",
      "\\end{equation}\n",
      "\n",
      "S's equation has not $\\frac{d}{dx}$ but $\\frac{d^2}{dx^2}$, so we must take the dot product of $\\vec{\\nabla}$:\n",
      "\n",
      "\\begin{equation}\n",
      "\\vec{\\nabla}\\cdot\\vec{\\nabla} = \\nabla^2\n",
      "\\end{equation}\n",
      "\n",
      "$\\nabla^2$ is called the Laplacian."
     ]
    },
    {
     "cell_type": "markdown",
     "metadata": {},
     "source": [
      "Schr&#246;dinger's Equation now takes the form:\n",
      "\\begin{equation}\n",
      "\\left(\\frac{-\\hbar^2}{2m}\\nabla^2+V(r)\\right)\\psi\\left(r,\\theta,\\phi\\right) = E\\,\\psi\\left(r,\\theta,\\phi\\right)\n",
      "\\end{equation}"
     ]
    },
    {
     "cell_type": "markdown",
     "metadata": {},
     "source": [
      "But if we want to solve the hydrogen atom, we will be relying on the static attraction due to Coulomb's Law:\n",
      "\n",
      "\\begin{equation}\n",
      "U(r) = \\frac{e^2}{4\\pi \\varepsilon_{0}} \\frac{1}{r}\n",
      "\\end{equation}\n",
      "\n",
      "Which is most convenient in spherical coordinates.\n",
      "\n",
      "Therefore, we must transform our equation once more:\n",
      "\n",
      "\\begin{align}\n",
      "\\left(x,y,z\\right) \\rightarrow & \\left(r,\\theta,\\phi\\right)  \\\\\n",
      "\\phantom{hi}&\\\\\n",
      "\\left(\\frac{\\partial^2}{\\partial x^2},\\frac{\\partial^2}{\\partial y^2}, \\frac{\\partial^2}{\\partial z^2}\\right) \\rightarrow & \\left(\\frac{1}{r^2}\\frac{\\partial}{\\partial r}\\left(r^2\\frac{\\partial}{\\partial r}\\right), \\frac{1}{r^2 \\sin\\theta}\\frac{\\partial}{\\partial \\theta}\\left(\\sin\\theta \\frac{\\partial}{\\partial\\theta}\\right),\\frac{1}{r^2\\sin\\theta}\\frac{\\partial^2}{\\partial \\phi^2}\\right)\n",
      "\\end{align}"
     ]
    },
    {
     "cell_type": "markdown",
     "metadata": {},
     "source": [
      "Spherical coordinates.\n",
      "\n",
      "<img src=\"http://msemac.redwoods.edu/~darnold/math50c/mathjax/spherical/spherical2.png\" style=\"height: 400px;\" />\n",
      "\n",
      "In these coordinates, \n",
      "\n",
      "\\begin{equation}\n",
      "0 < r < \\infty \\\\\n",
      "0 \\leq \\theta < 2\\pi\\\\\n",
      "0 \\leq \\phi < \\pi\n",
      "\\end{equation}"
     ]
    },
    {
     "cell_type": "markdown",
     "metadata": {},
     "source": [
      "What's so special about Coulomb's Law?\n",
      "\\begin{equation}\n",
      "V(r) = \\frac{e^2}{4\\pi\\varepsilon}\\frac{1}{r}\n",
      "\\end{equation}\n",
      "\n",
      "No dependence on $\\theta$ or $\\phi$!"
     ]
    },
    {
     "cell_type": "markdown",
     "metadata": {},
     "source": [
      "\\begin{equation}\n",
      "-\\frac{\\hbar^2}{em}\\left[\\frac{1}{r^2}\\frac{\\partial}{\\partial r}\\left(r^2\\frac{\\partial\\psi}{\\partial r}\\right) + \\frac{1}{r^2\\sin\\theta}\\frac{\\partial}{\\partial \\theta}\\left(\\sin\\theta \\frac{\\partial\\psi}{\\partial\\theta}\\right) + \\frac{1}{r^2\\sin^2\\theta}\\frac{\\partial^2 \\psi}{\\partial\\phi^2}\\right] + V\\psi = E\\psi\n",
      "\\end{equation}"
     ]
    },
    {
     "cell_type": "markdown",
     "metadata": {},
     "source": [
      "One trick equation-solvers have up their sleeve is <a href=\"http://en.wikipedia.org/wiki/Separation_of_variables\">Separation of Variables</a>.\n",
      "\n",
      "Our function, $\\psi$, depends on $r, \\theta,$ and $\\phi$. We can therefore guess that it can be separated into different functions:\n",
      "\n",
      "\\begin{equation}\n",
      "\\psi(r,\\theta,\\phi) = R(r)Y(\\theta,\\phi)\n",
      "\\end{equation}\n",
      "\n",
      "Putting this into the above equation yields:\n",
      "\n",
      "\\begin{equation}\n",
      "\\left\\{\\frac{1}{R}\\frac{\\partial}{\\partial r}\\left(r^2\\frac{\\partial R}{\\partial r}\\right) - \\frac{2mr^2}{\\hbar^2}\\left(V(r) - E\\right)\\right\\} + \\left\\{\\frac{1}{Y}\\left[\\frac{1}{\\sin\\theta}\\frac{\\partial}{\\partial\\theta}\\left(\\sin\\theta\\frac{\\partial Y}{\\partial\\theta}\\right)+\\frac{1}{\\sin^2\\theta}\\frac{\\partial^2 Y}{\\partial \\phi^2}\\right]\\right\\} = 0\n",
      "\\end{equation}\n",
      "\n",
      "But both of the terms in the curly brackets have independent variables. Changing $r$ won't change $\\theta$ or $\\phi$. Therefore, \n",
      "\n",
      "\\begin{equation}\n",
      "\\frac{1}{R}\\frac{\\partial}{\\partial r}\\left(r^2\\frac{\\partial R}{\\partial r}\\right) - \\frac{2mr^2}{\\hbar^2}\\left(V(r) - E\\right) = -\\ell (\\ell + 1)\n",
      "\\end{equation}\n",
      "\n",
      "and\n",
      "\n",
      "\\begin{equation}\n",
      "\\frac{1}{Y}\\left[\\frac{1}{\\sin\\theta}\\frac{\\partial}{\\partial\\theta}\\left(\\sin\\theta\\frac{\\partial Y}{\\partial\\theta}\\right)+\\frac{1}{\\sin^2\\theta}\\frac{\\partial^2 Y}{\\partial \\phi^2}\\right] = \\ell (\\ell + 1)\n",
      "\\end{equation}\n",
      "\n",
      "Adding these two terms obviously gives zero. The constant, $\\ell (\\ell + 1)$ is called a separation constant. We could also have used any symbol&mdash;e.g., $k$&mdash;but $\\ell (\\ell + 1)$ will turn out to be more convenient later. Disentangling $r$ from the angular terms also greatly simplifies the solution of the equations."
     ]
    },
    {
     "cell_type": "markdown",
     "metadata": {},
     "source": [
      "If $\\psi(r,\\theta,\\phi) = \\psi(r)$&mdash;that is, only dependent on $r$&mdash;then it is spherically symmetric and all of the derivatives of the angular terms go to zero."
     ]
    },
    {
     "cell_type": "markdown",
     "metadata": {},
     "source": [
      "Setting $u(r) = rR(r)$, our radial equation can be simplified further:\n",
      "\n",
      "\\begin{equation}\n",
      "-\\frac{\\hbar^2}{2m}\\frac{d^2u}{dr^2} + \\left[-\\frac{e^2}{4\\pi\\varepsilon_{0}}\\frac{1}{r} + \\frac{\\hbar^2}{2m}\\frac{\\ell\\left(\\ell + 1\\right)}{r^2}\\right]\\,u = E\\,u\n",
      "\\end{equation}\n",
      "\n",
      "The first term is analagous to kinetic energy, the second term is Coulomb's potential. What about the third term? It's analagous to the centrifugal \"force\" term that shows up in the classical potential:\n",
      "\n",
      "\\begin{equation}\n",
      "U(r) = V(r) + \\frac{L^2}{2mr^2}\n",
      "\\end{equation}"
     ]
    },
    {
     "cell_type": "markdown",
     "metadata": {},
     "source": [
      "The radial equation only has solutions for discrete values of $n$. The angular momentum term goes to zero since the angular term in curly braces above goes to zero. Therefore, our radial equation takes the more simplified form:\n",
      "\n",
      "\\begin{equation}\n",
      "\\frac{1}{r}\\frac{d^2}{dr^2}\\left(rR\\right) = - \\frac{2m}{\\hbar^2}\\left(E + \\frac{e^2}{r}\\right)R\n",
      "\\end{equation}\n",
      "\n",
      "The solutions of this equation are a set of functions with discrete values from $n = 1, 2, ...$ Besides finding the wavefunction for these valunes of $n$, it also predicts energy as follows:\n",
      "\n",
      "$$E_{n} = - \\frac{me^4}{2\\hbar^2}\\frac{1}{n^2}\\approx -13.6\\frac{1}{n^2}$$\n",
      "\n",
      "The first few solutions of the wavefunction are:\n",
      "\n",
      "\\begin{align}\n",
      "\\psi_{1} =& e^{-r/a_{0}} \\\\\n",
      "\\psi_{2} =& \\left(1 - \\frac{r}{2a_{0}}\\right)e^{-r/(2a_{0})} \\\\\n",
      "\\psi_{3} =& \\left(1 - \\frac{2r}{3a_{0}} + \\frac{2}{26}\\frac{r^2}{a_{0}^2}\\right)e^{-r/(3a_{0})}\\\\\n",
      "\\vdots &\n",
      "\\end{align}\n",
      "\n",
      "These are called $s$-states because of their symmetry. "
     ]
    },
    {
     "cell_type": "markdown",
     "metadata": {},
     "source": [
      "Solving the angular equation gives functions called <a href=\"http://en.wikipedia.org/wiki/Spherical_harmonics\">Spherical Harmonics</a>. Just like there are harmonics on a linear string or in a linear tube, there are harmonics on drum heads, and spheres, and more.\n",
      "\n",
      "Here are some of the spherical harmonics. Notice that they are not real-valued in general.\n",
      "\n",
      "<h4>$\\ell = 0$</h4>\n",
      "<img src=\"http://upload.wikimedia.org/math/9/e/7/9e7b6ecba7aaa0e6d318b0093806c24f.png\" /> <br />\n",
      "\n",
      "<h4>$\\ell = 1$</h4>\n",
      "<img src=\"http://upload.wikimedia.org/math/e/5/d/e5d3a10e3eb3254f6e164e6cfd6f88e0.png\" /><br />\n",
      "\n",
      "<h4>$\\ell = 2$</h4>\n",
      "<img src=\"http://upload.wikimedia.org/math/7/0/5/7057c97b2adc5389e50216cee75d5cc2.png\" /><br />\n",
      "<img src=\"http://upload.wikimedia.org/math/6/2/c/62cb3ab2ec923dc546c7f778603a6d74.png\" /><br />\n",
      "<img src=\"http://upload.wikimedia.org/math/7/0/5/7057c97b2adc5389e50216cee75d5cc2.png\" /><br />\n",
      "<img src=\"http://upload.wikimedia.org/math/f/5/f/f5fd0c5cb625e4dd822319e78587a0d5.png\" /><br />\n",
      "<img src=\"http://upload.wikimedia.org/math/6/a/6/6a6686fe690d3d853792009937d0c733.png\" /><br />"
     ]
    },
    {
     "cell_type": "markdown",
     "metadata": {},
     "source": [
      "<img src=\"http://chemwiki.ucdavis.edu/@api/deki/files/8855/Single_electron_orbitals.jpg\" />"
     ]
    },
    {
     "cell_type": "markdown",
     "metadata": {},
     "source": [
      "And so on...\n",
      "\n",
      "The complete wavefunction is then:\n",
      "\n",
      "\n",
      "<span style=\"font-size: 3em;\">\n",
      "\\begin{equation}\n",
      "\\psi_{n,l,m} = Y_{l,m}\\left(\\theta,\\phi\\right)R_{n,l}\\left(r\\right)\n",
      "\\end{equation}\n",
      "</span>"
     ]
    }
   ],
   "metadata": {}
  }
 ]
}