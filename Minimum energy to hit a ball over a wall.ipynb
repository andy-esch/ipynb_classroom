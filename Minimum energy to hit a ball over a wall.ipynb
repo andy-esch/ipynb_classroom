{
 "metadata": {
  "name": ""
 },
 "nbformat": 3,
 "nbformat_minor": 0,
 "worksheets": [
  {
   "cells": [
    {
     "cell_type": "code",
     "collapsed": false,
     "input": [
      "%pylab inline"
     ],
     "language": "python",
     "metadata": {},
     "outputs": [
      {
       "output_type": "stream",
       "stream": "stdout",
       "text": [
        "Populating the interactive namespace from numpy and matplotlib\n"
       ]
      }
     ],
     "prompt_number": 55
    },
    {
     "cell_type": "markdown",
     "metadata": {},
     "source": [
      "Find the velocity that requires the minimum amount of energy to go over a wall of height $h$ at a distance of $l$ away."
     ]
    },
    {
     "cell_type": "code",
     "collapsed": false,
     "input": [
      "h = 5. # meters\n",
      "l = 10. # meters\n",
      "g = 9.81 # m/s^2\n",
      "\n",
      "def vx(dx,dy,acc_gravity):\n",
      "    return ((0.5 * g * l)**2 / (1. + h**2 / l**2))**(0.25)\n",
      "\n",
      "def vy(dx,dy,acc_gravity,v_x):\n",
      "    \"\"\"Find the initial y velocity given displacement (x and y),\n",
      "        the acceleration of gravity, and initial x velocity\n",
      "    \"\"\"\n",
      "    return (h * v_x / l + 0.5 * g * l / v_x)\n",
      "\n",
      "def vtotal(v_x,v_y):\n",
      "    vx2 = v_x**2\n",
      "    vy2 = v_y**2\n",
      "    return np.sqrt(vx2 + vy2)\n",
      "\n",
      "vhorizontal = vx(l,h,g)\n",
      "print \"Horizontal velocity (vx) = %0.3f m/s \" % vhorizontal\n",
      "vvertical = vy(l,h,g,vhorizontal)\n",
      "print \"Vertical velocity (vy) = %0.3f m/s \" % vvertical\n",
      "vmagnitude = vtotal(vhorizontal,vvertical)\n",
      "print \"Total velocity = %0.3f m/s \" % vmagnitude"
     ],
     "language": "python",
     "metadata": {},
     "outputs": [
      {
       "output_type": "stream",
       "stream": "stdout",
       "text": [
        "Horizontal velocity (vx) = 6.624 m/s \n",
        "Vertical velocity (vy) = 10.717 m/s \n",
        "Total velocity = 12.599 m/s \n"
       ]
      }
     ],
     "prompt_number": 77
    },
    {
     "cell_type": "code",
     "collapsed": false,
     "input": [
      "theta = 180. / np.pi * np.arctan(vvertical / vhorizontal)\n",
      "print \"Angle at which the projectile is launched: %0.3f degrees\" % theta"
     ],
     "language": "python",
     "metadata": {},
     "outputs": [
      {
       "output_type": "stream",
       "stream": "stdout",
       "text": [
        "Angle at which the projectile is launched: 58.283 degrees\n"
       ]
      }
     ],
     "prompt_number": 73
    },
    {
     "cell_type": "code",
     "collapsed": false,
     "input": [
      "def y(vy0, t, g):\n",
      "    return vy0 * t - 0.5 * g * t**2\n",
      "\n",
      "def x(vx0, t):\n",
      "    return vx0 * t\n",
      "tspan = arange(0., l / 6.62, 0.01)\n",
      "tspan[:10]"
     ],
     "language": "python",
     "metadata": {},
     "outputs": [
      {
       "metadata": {},
       "output_type": "pyout",
       "prompt_number": 74,
       "text": [
        "array([ 0.  ,  0.01,  0.02,  0.03,  0.04,  0.05,  0.06,  0.07,  0.08,  0.09])"
       ]
      }
     ],
     "prompt_number": 74
    },
    {
     "cell_type": "code",
     "collapsed": false,
     "input": [
      "yvals = y(10.71, tspan, g)\n",
      "xvals = x(6.62, tspan)\n",
      "plt.plot(xvals,yvals)"
     ],
     "language": "python",
     "metadata": {},
     "outputs": [
      {
       "metadata": {},
       "output_type": "pyout",
       "prompt_number": 75,
       "text": [
        "[<matplotlib.lines.Line2D at 0x106ccdf50>]"
       ]
      },
      {
       "metadata": {},
       "output_type": "display_data",
       "png": "[encoded data removed]",
       "text": [
        "<matplotlib.figure.Figure at 0x1069ea350>"
       ]
      }
     ],
     "prompt_number": 75
    },
    {
     "cell_type": "code",
     "collapsed": false,
     "input": [
      "t =  l / vhorizontal\n",
      "y = vvertical * t - 0.5 * 9.8 * t**2\n",
      "print y "
     ],
     "language": "python",
     "metadata": {},
     "outputs": [
      {
       "output_type": "stream",
       "stream": "stdout",
       "text": [
        "5.29793419203\n"
       ]
      }
     ],
     "prompt_number": 60
    },
    {
     "cell_type": "code",
     "collapsed": false,
     "input": [
      "th = np.arctan(vvertical / vhorizontal) * 180. / np.pi\n",
      "th"
     ],
     "language": "python",
     "metadata": {},
     "outputs": [
      {
       "metadata": {},
       "output_type": "pyout",
       "prompt_number": 79,
       "text": [
        "58.282525588538995"
       ]
      }
     ],
     "prompt_number": 79
    },
    {
     "cell_type": "code",
     "collapsed": false,
     "input": [
      "vvertical"
     ],
     "language": "python",
     "metadata": {},
     "outputs": [
      {
       "metadata": {},
       "output_type": "pyout",
       "prompt_number": 80,
       "text": [
        "10.717158232377592"
       ]
      }
     ],
     "prompt_number": 80
    },
    {
     "cell_type": "code",
     "collapsed": false,
     "input": [],
     "language": "python",
     "metadata": {},
     "outputs": []
    }
   ],
   "metadata": {}
  }
 ]
}